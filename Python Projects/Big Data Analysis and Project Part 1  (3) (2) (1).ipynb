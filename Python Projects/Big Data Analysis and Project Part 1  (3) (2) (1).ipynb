{
 "cells": [
  {
   "cell_type": "code",
   "execution_count": 1,
   "id": "2c751c34",
   "metadata": {},
   "outputs": [
    {
     "name": "stdout",
     "output_type": "stream",
     "text": [
      "3000\n",
      "4000\n"
     ]
    }
   ],
   "source": [
    "import numpy as np # linear algebra\n",
    "import pandas as pd # data processing, CSV file I/O (e.g. pd.read_csv)\n",
    "import matplotlib.pyplot as plt\n",
    "import seaborn as sns\n",
    "import sys\n",
    "print(sys.getrecursionlimit())\n",
    "sys.setrecursionlimit(4000)\n",
    "print(sys.getrecursionlimit())"
   ]
  },
  {
   "cell_type": "markdown",
   "id": "371d3b8c",
   "metadata": {},
   "source": [
    "### Reading the data"
   ]
  },
  {
   "cell_type": "code",
   "execution_count": 2,
   "id": "d863c665",
   "metadata": {},
   "outputs": [
    {
     "name": "stdout",
     "output_type": "stream",
     "text": [
      "         UserID  PurchaseID             TIMESPSS  Duration DEVICE_TYPE  \\\n",
      "0          9558           1  2016-03-12 22:18:34     5.786      MOBILE   \n",
      "1          9558           1  2016-03-13 05:25:49    65.725      MOBILE   \n",
      "2          9558           1  2016-03-13 12:26:21     6.492      MOBILE   \n",
      "3          9657           2  2015-07-18 13:00:38    57.000       FIXED   \n",
      "4             1           3  2015-08-07 19:16:59   120.000       FIXED   \n",
      "...         ...         ...                  ...       ...         ...   \n",
      "2456409    7279       29012  2015-08-21 22:01:43     3.000       FIXED   \n",
      "2456410    7279       29012  2015-09-10 13:01:19    29.000       FIXED   \n",
      "2456411    7279       29012  2015-09-10 13:01:49   120.000       FIXED   \n",
      "2456412    7279       29012  2015-09-15 09:20:33   179.000       FIXED   \n",
      "2456413    7279       29012  2015-09-15 09:23:32     7.000       FIXED   \n",
      "\n",
      "         type_touch  purchase_own  purchase_any  MobilePanel  FixedPanel  \n",
      "0                 7             0             0            0           0  \n",
      "1                 7             0             0            0           0  \n",
      "2                 7             0             0            0           0  \n",
      "3                 4             0             0            0           0  \n",
      "4                 7             0             0            0          17  \n",
      "...             ...           ...           ...          ...         ...  \n",
      "2456409          13             0             0            0           4  \n",
      "2456410          13             0             0            0           4  \n",
      "2456411          13             0             0            0           4  \n",
      "2456412          13             0             0            0           4  \n",
      "2456413          13             0             0            0           4  \n",
      "\n",
      "[2456414 rows x 10 columns]\n"
     ]
    }
   ],
   "source": [
    "data1 = pd.read_csv('TravelData.csv')\n",
    "print(data1)"
   ]
  },
  {
   "cell_type": "code",
   "execution_count": 3,
   "id": "6d497933",
   "metadata": {},
   "outputs": [
    {
     "name": "stdout",
     "output_type": "stream",
     "text": [
      "      UserID  SPSS_Regio5  RESP_GEM_GROOTTE  BAS_huishoudgrootte  GenderID  \\\n",
      "0       9558          NaN               NaN                  NaN       NaN   \n",
      "1       9657          NaN               NaN                  NaN       NaN   \n",
      "2          1          5.0               6.0                  1.0       1.0   \n",
      "3          2          3.0               3.0                  2.0       2.0   \n",
      "4          3          NaN               NaN                  NaN       NaN   \n",
      "...      ...          ...               ...                  ...       ...   \n",
      "9673    7276          NaN               NaN                  NaN       NaN   \n",
      "9674    7277          NaN               NaN                  NaN       NaN   \n",
      "9675    8828          4.0               3.0                  4.0       1.0   \n",
      "9676    7278          3.0               5.0                  1.0       2.0   \n",
      "9677    7279          4.0               6.0                  3.0       1.0   \n",
      "\n",
      "       Age  BAS_werkzaamheid_resp  BAS_bruto_jaarinkomen  \\\n",
      "0      NaN                    NaN                    NaN   \n",
      "1      NaN                    NaN                    NaN   \n",
      "2     59.0                    2.0                    2.0   \n",
      "3     47.0                    2.0                    7.0   \n",
      "4      NaN                    NaN                    NaN   \n",
      "...    ...                    ...                    ...   \n",
      "9673   NaN                    NaN                    NaN   \n",
      "9674   NaN                    NaN                    NaN   \n",
      "9675  37.0                    2.0                    6.0   \n",
      "9676  49.0                    5.0                    1.0   \n",
      "9677  26.0                   97.0                    1.0   \n",
      "\n",
      "      afg_kinderen_huishouden  AFG_sk2015  BAS_voltooide_opleiding8_resp  \\\n",
      "0                         NaN         NaN                            NaN   \n",
      "1                         NaN         NaN                            NaN   \n",
      "2                         0.0         5.0                            2.0   \n",
      "3                         0.0         2.0                            6.0   \n",
      "4                         NaN         NaN                            NaN   \n",
      "...                       ...         ...                            ...   \n",
      "9673                      NaN         NaN                            NaN   \n",
      "9674                      NaN         NaN                            NaN   \n",
      "9675                      2.0         1.0                            6.0   \n",
      "9676                      0.0         5.0                            2.0   \n",
      "9677                      0.0         3.0                            NaN   \n",
      "\n",
      "      SPSS_Lifestage  \n",
      "0                NaN  \n",
      "1                NaN  \n",
      "2                2.0  \n",
      "3                4.0  \n",
      "4                NaN  \n",
      "...              ...  \n",
      "9673             NaN  \n",
      "9674             NaN  \n",
      "9675             5.0  \n",
      "9676             2.0  \n",
      "9677             7.0  \n",
      "\n",
      "[9678 rows x 12 columns]\n"
     ]
    }
   ],
   "source": [
    "data2 = pd.read_csv('TravelDataDemos.csv')\n",
    "print(data2)"
   ]
  },
  {
   "cell_type": "markdown",
   "id": "8ef8bf17",
   "metadata": {},
   "source": [
    "### Merging the two datasets"
   ]
  },
  {
   "cell_type": "code",
   "execution_count": 4,
   "id": "8ddcb4fa",
   "metadata": {},
   "outputs": [],
   "source": [
    "merged_df = pd.merge(data1, data2, on='UserID')"
   ]
  },
  {
   "cell_type": "code",
   "execution_count": 5,
   "id": "6263acbe",
   "metadata": {},
   "outputs": [
    {
     "name": "stdout",
     "output_type": "stream",
     "text": [
      "         UserID  PurchaseID             TIMESPSS  Duration DEVICE_TYPE  \\\n",
      "0          9558           1  2016-03-12 22:18:34     5.786      MOBILE   \n",
      "1          9558           1  2016-03-13 05:25:49    65.725      MOBILE   \n",
      "2          9558           1  2016-03-13 12:26:21     6.492      MOBILE   \n",
      "3          9657           2  2015-07-18 13:00:38    57.000       FIXED   \n",
      "4             1           3  2015-08-07 19:16:59   120.000       FIXED   \n",
      "...         ...         ...                  ...       ...         ...   \n",
      "2456409    7279       29012  2015-08-21 22:01:43     3.000       FIXED   \n",
      "2456410    7279       29012  2015-09-10 13:01:19    29.000       FIXED   \n",
      "2456411    7279       29012  2015-09-10 13:01:49   120.000       FIXED   \n",
      "2456412    7279       29012  2015-09-15 09:20:33   179.000       FIXED   \n",
      "2456413    7279       29012  2015-09-15 09:23:32     7.000       FIXED   \n",
      "\n",
      "         type_touch  purchase_own  purchase_any  MobilePanel  FixedPanel  ...  \\\n",
      "0                 7             0             0            0           0  ...   \n",
      "1                 7             0             0            0           0  ...   \n",
      "2                 7             0             0            0           0  ...   \n",
      "3                 4             0             0            0           0  ...   \n",
      "4                 7             0             0            0          17  ...   \n",
      "...             ...           ...           ...          ...         ...  ...   \n",
      "2456409          13             0             0            0           4  ...   \n",
      "2456410          13             0             0            0           4  ...   \n",
      "2456411          13             0             0            0           4  ...   \n",
      "2456412          13             0             0            0           4  ...   \n",
      "2456413          13             0             0            0           4  ...   \n",
      "\n",
      "         RESP_GEM_GROOTTE  BAS_huishoudgrootte  GenderID   Age  \\\n",
      "0                     NaN                  NaN       NaN   NaN   \n",
      "1                     NaN                  NaN       NaN   NaN   \n",
      "2                     NaN                  NaN       NaN   NaN   \n",
      "3                     NaN                  NaN       NaN   NaN   \n",
      "4                     6.0                  1.0       1.0  59.0   \n",
      "...                   ...                  ...       ...   ...   \n",
      "2456409               6.0                  3.0       1.0  26.0   \n",
      "2456410               6.0                  3.0       1.0  26.0   \n",
      "2456411               6.0                  3.0       1.0  26.0   \n",
      "2456412               6.0                  3.0       1.0  26.0   \n",
      "2456413               6.0                  3.0       1.0  26.0   \n",
      "\n",
      "         BAS_werkzaamheid_resp  BAS_bruto_jaarinkomen  \\\n",
      "0                          NaN                    NaN   \n",
      "1                          NaN                    NaN   \n",
      "2                          NaN                    NaN   \n",
      "3                          NaN                    NaN   \n",
      "4                          2.0                    2.0   \n",
      "...                        ...                    ...   \n",
      "2456409                   97.0                    1.0   \n",
      "2456410                   97.0                    1.0   \n",
      "2456411                   97.0                    1.0   \n",
      "2456412                   97.0                    1.0   \n",
      "2456413                   97.0                    1.0   \n",
      "\n",
      "         afg_kinderen_huishouden  AFG_sk2015  BAS_voltooide_opleiding8_resp  \\\n",
      "0                            NaN         NaN                            NaN   \n",
      "1                            NaN         NaN                            NaN   \n",
      "2                            NaN         NaN                            NaN   \n",
      "3                            NaN         NaN                            NaN   \n",
      "4                            0.0         5.0                            2.0   \n",
      "...                          ...         ...                            ...   \n",
      "2456409                      0.0         3.0                            NaN   \n",
      "2456410                      0.0         3.0                            NaN   \n",
      "2456411                      0.0         3.0                            NaN   \n",
      "2456412                      0.0         3.0                            NaN   \n",
      "2456413                      0.0         3.0                            NaN   \n",
      "\n",
      "         SPSS_Lifestage  \n",
      "0                   NaN  \n",
      "1                   NaN  \n",
      "2                   NaN  \n",
      "3                   NaN  \n",
      "4                   2.0  \n",
      "...                 ...  \n",
      "2456409             7.0  \n",
      "2456410             7.0  \n",
      "2456411             7.0  \n",
      "2456412             7.0  \n",
      "2456413             7.0  \n",
      "\n",
      "[2456414 rows x 21 columns]\n"
     ]
    }
   ],
   "source": [
    "print(merged_df)"
   ]
  },
  {
   "cell_type": "markdown",
   "id": "27af2e9e",
   "metadata": {},
   "source": [
    "### Preprocessing"
   ]
  },
  {
   "cell_type": "markdown",
   "id": "d0a79d33",
   "metadata": {},
   "source": [
    "#### Changing columns name from dutch to english"
   ]
  },
  {
   "cell_type": "code",
   "execution_count": 6,
   "id": "ce475d71",
   "metadata": {},
   "outputs": [
    {
     "data": {
      "text/html": [
       "<div>\n",
       "<style scoped>\n",
       "    .dataframe tbody tr th:only-of-type {\n",
       "        vertical-align: middle;\n",
       "    }\n",
       "\n",
       "    .dataframe tbody tr th {\n",
       "        vertical-align: top;\n",
       "    }\n",
       "\n",
       "    .dataframe thead th {\n",
       "        text-align: right;\n",
       "    }\n",
       "</style>\n",
       "<table border=\"1\" class=\"dataframe\">\n",
       "  <thead>\n",
       "    <tr style=\"text-align: right;\">\n",
       "      <th></th>\n",
       "      <th>UserID</th>\n",
       "      <th>PurchaseID</th>\n",
       "      <th>TIMESPSS</th>\n",
       "      <th>Duration</th>\n",
       "      <th>DEVICE_TYPE</th>\n",
       "      <th>type_touch</th>\n",
       "      <th>purchase_own</th>\n",
       "      <th>purchase_any</th>\n",
       "      <th>MobilePanel</th>\n",
       "      <th>FixedPanel</th>\n",
       "      <th>...</th>\n",
       "      <th>Size_of_Municipality</th>\n",
       "      <th>Household_Size</th>\n",
       "      <th>Gender</th>\n",
       "      <th>Age</th>\n",
       "      <th>Kind_of_work</th>\n",
       "      <th>Gross_income</th>\n",
       "      <th>no_of_children</th>\n",
       "      <th>Social_Class</th>\n",
       "      <th>Education</th>\n",
       "      <th>Lifestage</th>\n",
       "    </tr>\n",
       "  </thead>\n",
       "  <tbody>\n",
       "    <tr>\n",
       "      <th>0</th>\n",
       "      <td>9558</td>\n",
       "      <td>1</td>\n",
       "      <td>2016-03-12 22:18:34</td>\n",
       "      <td>5.786</td>\n",
       "      <td>MOBILE</td>\n",
       "      <td>7</td>\n",
       "      <td>0</td>\n",
       "      <td>0</td>\n",
       "      <td>0</td>\n",
       "      <td>0</td>\n",
       "      <td>...</td>\n",
       "      <td>NaN</td>\n",
       "      <td>NaN</td>\n",
       "      <td>NaN</td>\n",
       "      <td>NaN</td>\n",
       "      <td>NaN</td>\n",
       "      <td>NaN</td>\n",
       "      <td>NaN</td>\n",
       "      <td>NaN</td>\n",
       "      <td>NaN</td>\n",
       "      <td>NaN</td>\n",
       "    </tr>\n",
       "    <tr>\n",
       "      <th>1</th>\n",
       "      <td>9558</td>\n",
       "      <td>1</td>\n",
       "      <td>2016-03-13 05:25:49</td>\n",
       "      <td>65.725</td>\n",
       "      <td>MOBILE</td>\n",
       "      <td>7</td>\n",
       "      <td>0</td>\n",
       "      <td>0</td>\n",
       "      <td>0</td>\n",
       "      <td>0</td>\n",
       "      <td>...</td>\n",
       "      <td>NaN</td>\n",
       "      <td>NaN</td>\n",
       "      <td>NaN</td>\n",
       "      <td>NaN</td>\n",
       "      <td>NaN</td>\n",
       "      <td>NaN</td>\n",
       "      <td>NaN</td>\n",
       "      <td>NaN</td>\n",
       "      <td>NaN</td>\n",
       "      <td>NaN</td>\n",
       "    </tr>\n",
       "    <tr>\n",
       "      <th>2</th>\n",
       "      <td>9558</td>\n",
       "      <td>1</td>\n",
       "      <td>2016-03-13 12:26:21</td>\n",
       "      <td>6.492</td>\n",
       "      <td>MOBILE</td>\n",
       "      <td>7</td>\n",
       "      <td>0</td>\n",
       "      <td>0</td>\n",
       "      <td>0</td>\n",
       "      <td>0</td>\n",
       "      <td>...</td>\n",
       "      <td>NaN</td>\n",
       "      <td>NaN</td>\n",
       "      <td>NaN</td>\n",
       "      <td>NaN</td>\n",
       "      <td>NaN</td>\n",
       "      <td>NaN</td>\n",
       "      <td>NaN</td>\n",
       "      <td>NaN</td>\n",
       "      <td>NaN</td>\n",
       "      <td>NaN</td>\n",
       "    </tr>\n",
       "    <tr>\n",
       "      <th>3</th>\n",
       "      <td>9657</td>\n",
       "      <td>2</td>\n",
       "      <td>2015-07-18 13:00:38</td>\n",
       "      <td>57.000</td>\n",
       "      <td>FIXED</td>\n",
       "      <td>4</td>\n",
       "      <td>0</td>\n",
       "      <td>0</td>\n",
       "      <td>0</td>\n",
       "      <td>0</td>\n",
       "      <td>...</td>\n",
       "      <td>NaN</td>\n",
       "      <td>NaN</td>\n",
       "      <td>NaN</td>\n",
       "      <td>NaN</td>\n",
       "      <td>NaN</td>\n",
       "      <td>NaN</td>\n",
       "      <td>NaN</td>\n",
       "      <td>NaN</td>\n",
       "      <td>NaN</td>\n",
       "      <td>NaN</td>\n",
       "    </tr>\n",
       "    <tr>\n",
       "      <th>4</th>\n",
       "      <td>1</td>\n",
       "      <td>3</td>\n",
       "      <td>2015-08-07 19:16:59</td>\n",
       "      <td>120.000</td>\n",
       "      <td>FIXED</td>\n",
       "      <td>7</td>\n",
       "      <td>0</td>\n",
       "      <td>0</td>\n",
       "      <td>0</td>\n",
       "      <td>17</td>\n",
       "      <td>...</td>\n",
       "      <td>6.0</td>\n",
       "      <td>1.0</td>\n",
       "      <td>1.0</td>\n",
       "      <td>59.0</td>\n",
       "      <td>2.0</td>\n",
       "      <td>2.0</td>\n",
       "      <td>0.0</td>\n",
       "      <td>5.0</td>\n",
       "      <td>2.0</td>\n",
       "      <td>2.0</td>\n",
       "    </tr>\n",
       "    <tr>\n",
       "      <th>5</th>\n",
       "      <td>1</td>\n",
       "      <td>4</td>\n",
       "      <td>2015-11-03 12:31:35</td>\n",
       "      <td>459.000</td>\n",
       "      <td>FIXED</td>\n",
       "      <td>1</td>\n",
       "      <td>0</td>\n",
       "      <td>0</td>\n",
       "      <td>0</td>\n",
       "      <td>17</td>\n",
       "      <td>...</td>\n",
       "      <td>6.0</td>\n",
       "      <td>1.0</td>\n",
       "      <td>1.0</td>\n",
       "      <td>59.0</td>\n",
       "      <td>2.0</td>\n",
       "      <td>2.0</td>\n",
       "      <td>0.0</td>\n",
       "      <td>5.0</td>\n",
       "      <td>2.0</td>\n",
       "      <td>2.0</td>\n",
       "    </tr>\n",
       "  </tbody>\n",
       "</table>\n",
       "<p>6 rows × 21 columns</p>\n",
       "</div>"
      ],
      "text/plain": [
       "   UserID  PurchaseID             TIMESPSS  Duration DEVICE_TYPE  type_touch  \\\n",
       "0    9558           1  2016-03-12 22:18:34     5.786      MOBILE           7   \n",
       "1    9558           1  2016-03-13 05:25:49    65.725      MOBILE           7   \n",
       "2    9558           1  2016-03-13 12:26:21     6.492      MOBILE           7   \n",
       "3    9657           2  2015-07-18 13:00:38    57.000       FIXED           4   \n",
       "4       1           3  2015-08-07 19:16:59   120.000       FIXED           7   \n",
       "5       1           4  2015-11-03 12:31:35   459.000       FIXED           1   \n",
       "\n",
       "   purchase_own  purchase_any  MobilePanel  FixedPanel  ...  \\\n",
       "0             0             0            0           0  ...   \n",
       "1             0             0            0           0  ...   \n",
       "2             0             0            0           0  ...   \n",
       "3             0             0            0           0  ...   \n",
       "4             0             0            0          17  ...   \n",
       "5             0             0            0          17  ...   \n",
       "\n",
       "   Size_of_Municipality  Household_Size  Gender   Age  Kind_of_work  \\\n",
       "0                   NaN             NaN     NaN   NaN           NaN   \n",
       "1                   NaN             NaN     NaN   NaN           NaN   \n",
       "2                   NaN             NaN     NaN   NaN           NaN   \n",
       "3                   NaN             NaN     NaN   NaN           NaN   \n",
       "4                   6.0             1.0     1.0  59.0           2.0   \n",
       "5                   6.0             1.0     1.0  59.0           2.0   \n",
       "\n",
       "   Gross_income  no_of_children  Social_Class  Education  Lifestage  \n",
       "0           NaN             NaN           NaN        NaN        NaN  \n",
       "1           NaN             NaN           NaN        NaN        NaN  \n",
       "2           NaN             NaN           NaN        NaN        NaN  \n",
       "3           NaN             NaN           NaN        NaN        NaN  \n",
       "4           2.0             0.0           5.0        2.0        2.0  \n",
       "5           2.0             0.0           5.0        2.0        2.0  \n",
       "\n",
       "[6 rows x 21 columns]"
      ]
     },
     "execution_count": 6,
     "metadata": {},
     "output_type": "execute_result"
    }
   ],
   "source": [
    "merged_df.rename(columns={'SPSS_Regio5':'Region','RESP_GEM_GROOTTE':'Size_of_Municipality','BAS_huishoudgrootte':'Household_Size','GenderID':'Gender','BAS_werkzaamheid_resp':'Kind_of_work','BAS_bruto_jaarinkomen':'Gross_income','afg_kinderen_huishouden':'no_of_children','AFG_sk2015':'Social_Class','BAS_voltooide_opleiding8_resp':'Education','SPSS_Lifestage':'Lifestage'},inplace=True)\n",
    "data2.rename(columns={'SPSS_Regio5':'Region','RESP_GEM_GROOTTE':'Size_of_Municipality','BAS_huishoudgrootte':'Household_Size','GenderID':'Gender','BAS_werkzaamheid_resp':'Kind_of_work','BAS_bruto_jaarinkomen':'Gross_income','afg_kinderen_huishouden':'no_of_children','AFG_sk2015':'Social_Class','BAS_voltooide_opleiding8_resp':'Education','SPSS_Lifestage':'Lifestage'},inplace=True)\n",
    "merged_df.head(6)"
   ]
  },
  {
   "cell_type": "markdown",
   "id": "1194a040",
   "metadata": {},
   "source": [
    "#### Checking and dropping null values"
   ]
  },
  {
   "cell_type": "code",
   "execution_count": 7,
   "id": "3395f880",
   "metadata": {
    "scrolled": true
   },
   "outputs": [
    {
     "name": "stdout",
     "output_type": "stream",
     "text": [
      "UserID                       0\n",
      "PurchaseID                   0\n",
      "TIMESPSS                     0\n",
      "Duration                141065\n",
      "DEVICE_TYPE                  0\n",
      "type_touch                   0\n",
      "purchase_own                 0\n",
      "purchase_any                 0\n",
      "MobilePanel                  0\n",
      "FixedPanel                   0\n",
      "Region                  304929\n",
      "Size_of_Municipality    304929\n",
      "Household_Size          304929\n",
      "Gender                  304929\n",
      "Age                     304929\n",
      "Kind_of_work            304929\n",
      "Gross_income            304929\n",
      "no_of_children          304929\n",
      "Social_Class            304929\n",
      "Education               376318\n",
      "Lifestage               304929\n",
      "dtype: int64\n"
     ]
    }
   ],
   "source": [
    "# Assuming your DataFrame is named 'df'\n",
    "null_values = merged_df.isnull()\n",
    "\n",
    "# Count the number of null values in each column\n",
    "null_counts = null_values.sum()\n",
    "\n",
    "# Display the columns with null values and their counts\n",
    "print(null_counts)"
   ]
  },
  {
   "cell_type": "code",
   "execution_count": 8,
   "id": "62aafc0f",
   "metadata": {},
   "outputs": [],
   "source": [
    "merged_df = merged_df.dropna()"
   ]
  },
  {
   "cell_type": "code",
   "execution_count": 9,
   "id": "77d760a3",
   "metadata": {},
   "outputs": [
    {
     "data": {
      "text/html": [
       "<div>\n",
       "<style scoped>\n",
       "    .dataframe tbody tr th:only-of-type {\n",
       "        vertical-align: middle;\n",
       "    }\n",
       "\n",
       "    .dataframe tbody tr th {\n",
       "        vertical-align: top;\n",
       "    }\n",
       "\n",
       "    .dataframe thead th {\n",
       "        text-align: right;\n",
       "    }\n",
       "</style>\n",
       "<table border=\"1\" class=\"dataframe\">\n",
       "  <thead>\n",
       "    <tr style=\"text-align: right;\">\n",
       "      <th></th>\n",
       "      <th>UserID</th>\n",
       "      <th>PurchaseID</th>\n",
       "      <th>TIMESPSS</th>\n",
       "      <th>Duration</th>\n",
       "      <th>DEVICE_TYPE</th>\n",
       "      <th>type_touch</th>\n",
       "      <th>purchase_own</th>\n",
       "      <th>purchase_any</th>\n",
       "      <th>MobilePanel</th>\n",
       "      <th>FixedPanel</th>\n",
       "      <th>...</th>\n",
       "      <th>Size_of_Municipality</th>\n",
       "      <th>Household_Size</th>\n",
       "      <th>Gender</th>\n",
       "      <th>Age</th>\n",
       "      <th>Kind_of_work</th>\n",
       "      <th>Gross_income</th>\n",
       "      <th>no_of_children</th>\n",
       "      <th>Social_Class</th>\n",
       "      <th>Education</th>\n",
       "      <th>Lifestage</th>\n",
       "    </tr>\n",
       "  </thead>\n",
       "  <tbody>\n",
       "    <tr>\n",
       "      <th>4</th>\n",
       "      <td>1</td>\n",
       "      <td>3</td>\n",
       "      <td>2015-08-07 19:16:59</td>\n",
       "      <td>120.000</td>\n",
       "      <td>FIXED</td>\n",
       "      <td>7</td>\n",
       "      <td>0</td>\n",
       "      <td>0</td>\n",
       "      <td>0</td>\n",
       "      <td>17</td>\n",
       "      <td>...</td>\n",
       "      <td>6.0</td>\n",
       "      <td>1.0</td>\n",
       "      <td>1.0</td>\n",
       "      <td>59.0</td>\n",
       "      <td>2.0</td>\n",
       "      <td>2.0</td>\n",
       "      <td>0.0</td>\n",
       "      <td>5.0</td>\n",
       "      <td>2.0</td>\n",
       "      <td>2.0</td>\n",
       "    </tr>\n",
       "    <tr>\n",
       "      <th>5</th>\n",
       "      <td>1</td>\n",
       "      <td>4</td>\n",
       "      <td>2015-11-03 12:31:35</td>\n",
       "      <td>459.000</td>\n",
       "      <td>FIXED</td>\n",
       "      <td>1</td>\n",
       "      <td>0</td>\n",
       "      <td>0</td>\n",
       "      <td>0</td>\n",
       "      <td>17</td>\n",
       "      <td>...</td>\n",
       "      <td>6.0</td>\n",
       "      <td>1.0</td>\n",
       "      <td>1.0</td>\n",
       "      <td>59.0</td>\n",
       "      <td>2.0</td>\n",
       "      <td>2.0</td>\n",
       "      <td>0.0</td>\n",
       "      <td>5.0</td>\n",
       "      <td>2.0</td>\n",
       "      <td>2.0</td>\n",
       "    </tr>\n",
       "    <tr>\n",
       "      <th>6</th>\n",
       "      <td>1</td>\n",
       "      <td>4</td>\n",
       "      <td>2015-11-03 12:39:22</td>\n",
       "      <td>183.000</td>\n",
       "      <td>FIXED</td>\n",
       "      <td>1</td>\n",
       "      <td>0</td>\n",
       "      <td>0</td>\n",
       "      <td>0</td>\n",
       "      <td>17</td>\n",
       "      <td>...</td>\n",
       "      <td>6.0</td>\n",
       "      <td>1.0</td>\n",
       "      <td>1.0</td>\n",
       "      <td>59.0</td>\n",
       "      <td>2.0</td>\n",
       "      <td>2.0</td>\n",
       "      <td>0.0</td>\n",
       "      <td>5.0</td>\n",
       "      <td>2.0</td>\n",
       "      <td>2.0</td>\n",
       "    </tr>\n",
       "    <tr>\n",
       "      <th>7</th>\n",
       "      <td>1</td>\n",
       "      <td>4</td>\n",
       "      <td>2015-11-24 22:29:39</td>\n",
       "      <td>59.000</td>\n",
       "      <td>FIXED</td>\n",
       "      <td>1</td>\n",
       "      <td>0</td>\n",
       "      <td>0</td>\n",
       "      <td>0</td>\n",
       "      <td>17</td>\n",
       "      <td>...</td>\n",
       "      <td>6.0</td>\n",
       "      <td>1.0</td>\n",
       "      <td>1.0</td>\n",
       "      <td>59.0</td>\n",
       "      <td>2.0</td>\n",
       "      <td>2.0</td>\n",
       "      <td>0.0</td>\n",
       "      <td>5.0</td>\n",
       "      <td>2.0</td>\n",
       "      <td>2.0</td>\n",
       "    </tr>\n",
       "    <tr>\n",
       "      <th>8</th>\n",
       "      <td>1</td>\n",
       "      <td>4</td>\n",
       "      <td>2015-11-24 22:30:39</td>\n",
       "      <td>5.000</td>\n",
       "      <td>FIXED</td>\n",
       "      <td>1</td>\n",
       "      <td>0</td>\n",
       "      <td>0</td>\n",
       "      <td>0</td>\n",
       "      <td>17</td>\n",
       "      <td>...</td>\n",
       "      <td>6.0</td>\n",
       "      <td>1.0</td>\n",
       "      <td>1.0</td>\n",
       "      <td>59.0</td>\n",
       "      <td>2.0</td>\n",
       "      <td>2.0</td>\n",
       "      <td>0.0</td>\n",
       "      <td>5.0</td>\n",
       "      <td>2.0</td>\n",
       "      <td>2.0</td>\n",
       "    </tr>\n",
       "    <tr>\n",
       "      <th>...</th>\n",
       "      <td>...</td>\n",
       "      <td>...</td>\n",
       "      <td>...</td>\n",
       "      <td>...</td>\n",
       "      <td>...</td>\n",
       "      <td>...</td>\n",
       "      <td>...</td>\n",
       "      <td>...</td>\n",
       "      <td>...</td>\n",
       "      <td>...</td>\n",
       "      <td>...</td>\n",
       "      <td>...</td>\n",
       "      <td>...</td>\n",
       "      <td>...</td>\n",
       "      <td>...</td>\n",
       "      <td>...</td>\n",
       "      <td>...</td>\n",
       "      <td>...</td>\n",
       "      <td>...</td>\n",
       "      <td>...</td>\n",
       "      <td>...</td>\n",
       "    </tr>\n",
       "    <tr>\n",
       "      <th>2456401</th>\n",
       "      <td>7278</td>\n",
       "      <td>29010</td>\n",
       "      <td>2016-03-01 18:48:30</td>\n",
       "      <td>6.724</td>\n",
       "      <td>FIXED</td>\n",
       "      <td>7</td>\n",
       "      <td>0</td>\n",
       "      <td>0</td>\n",
       "      <td>0</td>\n",
       "      <td>12</td>\n",
       "      <td>...</td>\n",
       "      <td>5.0</td>\n",
       "      <td>1.0</td>\n",
       "      <td>2.0</td>\n",
       "      <td>49.0</td>\n",
       "      <td>5.0</td>\n",
       "      <td>1.0</td>\n",
       "      <td>0.0</td>\n",
       "      <td>5.0</td>\n",
       "      <td>2.0</td>\n",
       "      <td>2.0</td>\n",
       "    </tr>\n",
       "    <tr>\n",
       "      <th>2456402</th>\n",
       "      <td>7278</td>\n",
       "      <td>29010</td>\n",
       "      <td>2016-03-18 18:51:20</td>\n",
       "      <td>21.138</td>\n",
       "      <td>FIXED</td>\n",
       "      <td>1</td>\n",
       "      <td>0</td>\n",
       "      <td>0</td>\n",
       "      <td>0</td>\n",
       "      <td>12</td>\n",
       "      <td>...</td>\n",
       "      <td>5.0</td>\n",
       "      <td>1.0</td>\n",
       "      <td>2.0</td>\n",
       "      <td>49.0</td>\n",
       "      <td>5.0</td>\n",
       "      <td>1.0</td>\n",
       "      <td>0.0</td>\n",
       "      <td>5.0</td>\n",
       "      <td>2.0</td>\n",
       "      <td>2.0</td>\n",
       "    </tr>\n",
       "    <tr>\n",
       "      <th>2456403</th>\n",
       "      <td>7278</td>\n",
       "      <td>29010</td>\n",
       "      <td>2016-04-07 20:17:29</td>\n",
       "      <td>58.235</td>\n",
       "      <td>FIXED</td>\n",
       "      <td>1</td>\n",
       "      <td>0</td>\n",
       "      <td>0</td>\n",
       "      <td>0</td>\n",
       "      <td>12</td>\n",
       "      <td>...</td>\n",
       "      <td>5.0</td>\n",
       "      <td>1.0</td>\n",
       "      <td>2.0</td>\n",
       "      <td>49.0</td>\n",
       "      <td>5.0</td>\n",
       "      <td>1.0</td>\n",
       "      <td>0.0</td>\n",
       "      <td>5.0</td>\n",
       "      <td>2.0</td>\n",
       "      <td>2.0</td>\n",
       "    </tr>\n",
       "    <tr>\n",
       "      <th>2456404</th>\n",
       "      <td>7278</td>\n",
       "      <td>29010</td>\n",
       "      <td>2016-04-08 18:59:46</td>\n",
       "      <td>11.669</td>\n",
       "      <td>FIXED</td>\n",
       "      <td>1</td>\n",
       "      <td>0</td>\n",
       "      <td>0</td>\n",
       "      <td>0</td>\n",
       "      <td>12</td>\n",
       "      <td>...</td>\n",
       "      <td>5.0</td>\n",
       "      <td>1.0</td>\n",
       "      <td>2.0</td>\n",
       "      <td>49.0</td>\n",
       "      <td>5.0</td>\n",
       "      <td>1.0</td>\n",
       "      <td>0.0</td>\n",
       "      <td>5.0</td>\n",
       "      <td>2.0</td>\n",
       "      <td>2.0</td>\n",
       "    </tr>\n",
       "    <tr>\n",
       "      <th>2456405</th>\n",
       "      <td>7278</td>\n",
       "      <td>29010</td>\n",
       "      <td>2016-04-28 17:35:52</td>\n",
       "      <td>12.711</td>\n",
       "      <td>FIXED</td>\n",
       "      <td>7</td>\n",
       "      <td>0</td>\n",
       "      <td>0</td>\n",
       "      <td>0</td>\n",
       "      <td>12</td>\n",
       "      <td>...</td>\n",
       "      <td>5.0</td>\n",
       "      <td>1.0</td>\n",
       "      <td>2.0</td>\n",
       "      <td>49.0</td>\n",
       "      <td>5.0</td>\n",
       "      <td>1.0</td>\n",
       "      <td>0.0</td>\n",
       "      <td>5.0</td>\n",
       "      <td>2.0</td>\n",
       "      <td>2.0</td>\n",
       "    </tr>\n",
       "  </tbody>\n",
       "</table>\n",
       "<p>1965105 rows × 21 columns</p>\n",
       "</div>"
      ],
      "text/plain": [
       "         UserID  PurchaseID             TIMESPSS  Duration DEVICE_TYPE  \\\n",
       "4             1           3  2015-08-07 19:16:59   120.000       FIXED   \n",
       "5             1           4  2015-11-03 12:31:35   459.000       FIXED   \n",
       "6             1           4  2015-11-03 12:39:22   183.000       FIXED   \n",
       "7             1           4  2015-11-24 22:29:39    59.000       FIXED   \n",
       "8             1           4  2015-11-24 22:30:39     5.000       FIXED   \n",
       "...         ...         ...                  ...       ...         ...   \n",
       "2456401    7278       29010  2016-03-01 18:48:30     6.724       FIXED   \n",
       "2456402    7278       29010  2016-03-18 18:51:20    21.138       FIXED   \n",
       "2456403    7278       29010  2016-04-07 20:17:29    58.235       FIXED   \n",
       "2456404    7278       29010  2016-04-08 18:59:46    11.669       FIXED   \n",
       "2456405    7278       29010  2016-04-28 17:35:52    12.711       FIXED   \n",
       "\n",
       "         type_touch  purchase_own  purchase_any  MobilePanel  FixedPanel  ...  \\\n",
       "4                 7             0             0            0          17  ...   \n",
       "5                 1             0             0            0          17  ...   \n",
       "6                 1             0             0            0          17  ...   \n",
       "7                 1             0             0            0          17  ...   \n",
       "8                 1             0             0            0          17  ...   \n",
       "...             ...           ...           ...          ...         ...  ...   \n",
       "2456401           7             0             0            0          12  ...   \n",
       "2456402           1             0             0            0          12  ...   \n",
       "2456403           1             0             0            0          12  ...   \n",
       "2456404           1             0             0            0          12  ...   \n",
       "2456405           7             0             0            0          12  ...   \n",
       "\n",
       "         Size_of_Municipality  Household_Size  Gender   Age  Kind_of_work  \\\n",
       "4                         6.0             1.0     1.0  59.0           2.0   \n",
       "5                         6.0             1.0     1.0  59.0           2.0   \n",
       "6                         6.0             1.0     1.0  59.0           2.0   \n",
       "7                         6.0             1.0     1.0  59.0           2.0   \n",
       "8                         6.0             1.0     1.0  59.0           2.0   \n",
       "...                       ...             ...     ...   ...           ...   \n",
       "2456401                   5.0             1.0     2.0  49.0           5.0   \n",
       "2456402                   5.0             1.0     2.0  49.0           5.0   \n",
       "2456403                   5.0             1.0     2.0  49.0           5.0   \n",
       "2456404                   5.0             1.0     2.0  49.0           5.0   \n",
       "2456405                   5.0             1.0     2.0  49.0           5.0   \n",
       "\n",
       "         Gross_income  no_of_children  Social_Class  Education  Lifestage  \n",
       "4                 2.0             0.0           5.0        2.0        2.0  \n",
       "5                 2.0             0.0           5.0        2.0        2.0  \n",
       "6                 2.0             0.0           5.0        2.0        2.0  \n",
       "7                 2.0             0.0           5.0        2.0        2.0  \n",
       "8                 2.0             0.0           5.0        2.0        2.0  \n",
       "...               ...             ...           ...        ...        ...  \n",
       "2456401           1.0             0.0           5.0        2.0        2.0  \n",
       "2456402           1.0             0.0           5.0        2.0        2.0  \n",
       "2456403           1.0             0.0           5.0        2.0        2.0  \n",
       "2456404           1.0             0.0           5.0        2.0        2.0  \n",
       "2456405           1.0             0.0           5.0        2.0        2.0  \n",
       "\n",
       "[1965105 rows x 21 columns]"
      ]
     },
     "execution_count": 9,
     "metadata": {},
     "output_type": "execute_result"
    }
   ],
   "source": [
    "merged_df"
   ]
  },
  {
   "cell_type": "markdown",
   "id": "07cd2476",
   "metadata": {},
   "source": [
    "#### Changing data types of categorical columns"
   ]
  },
  {
   "cell_type": "code",
   "execution_count": 10,
   "id": "defb6715",
   "metadata": {},
   "outputs": [],
   "source": [
    "merged_df['Gender'] = merged_df['Gender'].astype('category')\n",
    "merged_df['Kind_of_work'] = merged_df['Kind_of_work'].astype('category')\n",
    "merged_df['Social_Class'] = merged_df['Social_Class'].astype('category')\n",
    "merged_df['DEVICE_TYPE'] = merged_df['DEVICE_TYPE'].astype('category')\n",
    "merged_df['Region'] = merged_df['Region'].astype('category')\n",
    "merged_df['Size_of_Municipality'] = merged_df['Size_of_Municipality'].astype('category')\n",
    "merged_df['Education'] = merged_df['Education'].astype('category')\n",
    "merged_df['Lifestage'] = merged_df['Lifestage'].astype('category')\n",
    "merged_df['Gross_income'] = merged_df['Gross_income'].astype('category')\n",
    "merged_df['purchase_any'] = merged_df['purchase_any'].astype('category')"
   ]
  },
  {
   "cell_type": "code",
   "execution_count": 11,
   "id": "5c9696d5",
   "metadata": {},
   "outputs": [
    {
     "data": {
      "text/plain": [
       "UserID                     int64\n",
       "PurchaseID                 int64\n",
       "TIMESPSS                  object\n",
       "Duration                 float64\n",
       "DEVICE_TYPE             category\n",
       "type_touch                 int64\n",
       "purchase_own               int64\n",
       "purchase_any            category\n",
       "MobilePanel                int64\n",
       "FixedPanel                 int64\n",
       "Region                  category\n",
       "Size_of_Municipality    category\n",
       "Household_Size           float64\n",
       "Gender                  category\n",
       "Age                      float64\n",
       "Kind_of_work            category\n",
       "Gross_income            category\n",
       "no_of_children           float64\n",
       "Social_Class            category\n",
       "Education               category\n",
       "Lifestage               category\n",
       "dtype: object"
      ]
     },
     "execution_count": 11,
     "metadata": {},
     "output_type": "execute_result"
    }
   ],
   "source": [
    "merged_df.dtypes"
   ]
  },
  {
   "cell_type": "markdown",
   "id": "5b1144df",
   "metadata": {},
   "source": [
    "#### Dropping columns with unique values"
   ]
  },
  {
   "cell_type": "code",
   "execution_count": 12,
   "id": "85cc13a2",
   "metadata": {
    "scrolled": true
   },
   "outputs": [],
   "source": [
    "df_preprocessed = merged_df.drop(['TIMESPSS', 'UserID', 'PurchaseID'], axis=1)"
   ]
  },
  {
   "cell_type": "code",
   "execution_count": 13,
   "id": "44edf28b",
   "metadata": {},
   "outputs": [
    {
     "data": {
      "text/html": [
       "<div>\n",
       "<style scoped>\n",
       "    .dataframe tbody tr th:only-of-type {\n",
       "        vertical-align: middle;\n",
       "    }\n",
       "\n",
       "    .dataframe tbody tr th {\n",
       "        vertical-align: top;\n",
       "    }\n",
       "\n",
       "    .dataframe thead th {\n",
       "        text-align: right;\n",
       "    }\n",
       "</style>\n",
       "<table border=\"1\" class=\"dataframe\">\n",
       "  <thead>\n",
       "    <tr style=\"text-align: right;\">\n",
       "      <th></th>\n",
       "      <th>Duration</th>\n",
       "      <th>DEVICE_TYPE</th>\n",
       "      <th>type_touch</th>\n",
       "      <th>purchase_own</th>\n",
       "      <th>purchase_any</th>\n",
       "      <th>MobilePanel</th>\n",
       "      <th>FixedPanel</th>\n",
       "      <th>Region</th>\n",
       "      <th>Size_of_Municipality</th>\n",
       "      <th>Household_Size</th>\n",
       "      <th>Gender</th>\n",
       "      <th>Age</th>\n",
       "      <th>Kind_of_work</th>\n",
       "      <th>Gross_income</th>\n",
       "      <th>no_of_children</th>\n",
       "      <th>Social_Class</th>\n",
       "      <th>Education</th>\n",
       "      <th>Lifestage</th>\n",
       "    </tr>\n",
       "  </thead>\n",
       "  <tbody>\n",
       "    <tr>\n",
       "      <th>4</th>\n",
       "      <td>120.000</td>\n",
       "      <td>FIXED</td>\n",
       "      <td>7</td>\n",
       "      <td>0</td>\n",
       "      <td>0</td>\n",
       "      <td>0</td>\n",
       "      <td>17</td>\n",
       "      <td>5.0</td>\n",
       "      <td>6.0</td>\n",
       "      <td>1.0</td>\n",
       "      <td>1.0</td>\n",
       "      <td>59.0</td>\n",
       "      <td>2.0</td>\n",
       "      <td>2.0</td>\n",
       "      <td>0.0</td>\n",
       "      <td>5.0</td>\n",
       "      <td>2.0</td>\n",
       "      <td>2.0</td>\n",
       "    </tr>\n",
       "    <tr>\n",
       "      <th>5</th>\n",
       "      <td>459.000</td>\n",
       "      <td>FIXED</td>\n",
       "      <td>1</td>\n",
       "      <td>0</td>\n",
       "      <td>0</td>\n",
       "      <td>0</td>\n",
       "      <td>17</td>\n",
       "      <td>5.0</td>\n",
       "      <td>6.0</td>\n",
       "      <td>1.0</td>\n",
       "      <td>1.0</td>\n",
       "      <td>59.0</td>\n",
       "      <td>2.0</td>\n",
       "      <td>2.0</td>\n",
       "      <td>0.0</td>\n",
       "      <td>5.0</td>\n",
       "      <td>2.0</td>\n",
       "      <td>2.0</td>\n",
       "    </tr>\n",
       "    <tr>\n",
       "      <th>6</th>\n",
       "      <td>183.000</td>\n",
       "      <td>FIXED</td>\n",
       "      <td>1</td>\n",
       "      <td>0</td>\n",
       "      <td>0</td>\n",
       "      <td>0</td>\n",
       "      <td>17</td>\n",
       "      <td>5.0</td>\n",
       "      <td>6.0</td>\n",
       "      <td>1.0</td>\n",
       "      <td>1.0</td>\n",
       "      <td>59.0</td>\n",
       "      <td>2.0</td>\n",
       "      <td>2.0</td>\n",
       "      <td>0.0</td>\n",
       "      <td>5.0</td>\n",
       "      <td>2.0</td>\n",
       "      <td>2.0</td>\n",
       "    </tr>\n",
       "    <tr>\n",
       "      <th>7</th>\n",
       "      <td>59.000</td>\n",
       "      <td>FIXED</td>\n",
       "      <td>1</td>\n",
       "      <td>0</td>\n",
       "      <td>0</td>\n",
       "      <td>0</td>\n",
       "      <td>17</td>\n",
       "      <td>5.0</td>\n",
       "      <td>6.0</td>\n",
       "      <td>1.0</td>\n",
       "      <td>1.0</td>\n",
       "      <td>59.0</td>\n",
       "      <td>2.0</td>\n",
       "      <td>2.0</td>\n",
       "      <td>0.0</td>\n",
       "      <td>5.0</td>\n",
       "      <td>2.0</td>\n",
       "      <td>2.0</td>\n",
       "    </tr>\n",
       "    <tr>\n",
       "      <th>8</th>\n",
       "      <td>5.000</td>\n",
       "      <td>FIXED</td>\n",
       "      <td>1</td>\n",
       "      <td>0</td>\n",
       "      <td>0</td>\n",
       "      <td>0</td>\n",
       "      <td>17</td>\n",
       "      <td>5.0</td>\n",
       "      <td>6.0</td>\n",
       "      <td>1.0</td>\n",
       "      <td>1.0</td>\n",
       "      <td>59.0</td>\n",
       "      <td>2.0</td>\n",
       "      <td>2.0</td>\n",
       "      <td>0.0</td>\n",
       "      <td>5.0</td>\n",
       "      <td>2.0</td>\n",
       "      <td>2.0</td>\n",
       "    </tr>\n",
       "    <tr>\n",
       "      <th>...</th>\n",
       "      <td>...</td>\n",
       "      <td>...</td>\n",
       "      <td>...</td>\n",
       "      <td>...</td>\n",
       "      <td>...</td>\n",
       "      <td>...</td>\n",
       "      <td>...</td>\n",
       "      <td>...</td>\n",
       "      <td>...</td>\n",
       "      <td>...</td>\n",
       "      <td>...</td>\n",
       "      <td>...</td>\n",
       "      <td>...</td>\n",
       "      <td>...</td>\n",
       "      <td>...</td>\n",
       "      <td>...</td>\n",
       "      <td>...</td>\n",
       "      <td>...</td>\n",
       "    </tr>\n",
       "    <tr>\n",
       "      <th>2456401</th>\n",
       "      <td>6.724</td>\n",
       "      <td>FIXED</td>\n",
       "      <td>7</td>\n",
       "      <td>0</td>\n",
       "      <td>0</td>\n",
       "      <td>0</td>\n",
       "      <td>12</td>\n",
       "      <td>3.0</td>\n",
       "      <td>5.0</td>\n",
       "      <td>1.0</td>\n",
       "      <td>2.0</td>\n",
       "      <td>49.0</td>\n",
       "      <td>5.0</td>\n",
       "      <td>1.0</td>\n",
       "      <td>0.0</td>\n",
       "      <td>5.0</td>\n",
       "      <td>2.0</td>\n",
       "      <td>2.0</td>\n",
       "    </tr>\n",
       "    <tr>\n",
       "      <th>2456402</th>\n",
       "      <td>21.138</td>\n",
       "      <td>FIXED</td>\n",
       "      <td>1</td>\n",
       "      <td>0</td>\n",
       "      <td>0</td>\n",
       "      <td>0</td>\n",
       "      <td>12</td>\n",
       "      <td>3.0</td>\n",
       "      <td>5.0</td>\n",
       "      <td>1.0</td>\n",
       "      <td>2.0</td>\n",
       "      <td>49.0</td>\n",
       "      <td>5.0</td>\n",
       "      <td>1.0</td>\n",
       "      <td>0.0</td>\n",
       "      <td>5.0</td>\n",
       "      <td>2.0</td>\n",
       "      <td>2.0</td>\n",
       "    </tr>\n",
       "    <tr>\n",
       "      <th>2456403</th>\n",
       "      <td>58.235</td>\n",
       "      <td>FIXED</td>\n",
       "      <td>1</td>\n",
       "      <td>0</td>\n",
       "      <td>0</td>\n",
       "      <td>0</td>\n",
       "      <td>12</td>\n",
       "      <td>3.0</td>\n",
       "      <td>5.0</td>\n",
       "      <td>1.0</td>\n",
       "      <td>2.0</td>\n",
       "      <td>49.0</td>\n",
       "      <td>5.0</td>\n",
       "      <td>1.0</td>\n",
       "      <td>0.0</td>\n",
       "      <td>5.0</td>\n",
       "      <td>2.0</td>\n",
       "      <td>2.0</td>\n",
       "    </tr>\n",
       "    <tr>\n",
       "      <th>2456404</th>\n",
       "      <td>11.669</td>\n",
       "      <td>FIXED</td>\n",
       "      <td>1</td>\n",
       "      <td>0</td>\n",
       "      <td>0</td>\n",
       "      <td>0</td>\n",
       "      <td>12</td>\n",
       "      <td>3.0</td>\n",
       "      <td>5.0</td>\n",
       "      <td>1.0</td>\n",
       "      <td>2.0</td>\n",
       "      <td>49.0</td>\n",
       "      <td>5.0</td>\n",
       "      <td>1.0</td>\n",
       "      <td>0.0</td>\n",
       "      <td>5.0</td>\n",
       "      <td>2.0</td>\n",
       "      <td>2.0</td>\n",
       "    </tr>\n",
       "    <tr>\n",
       "      <th>2456405</th>\n",
       "      <td>12.711</td>\n",
       "      <td>FIXED</td>\n",
       "      <td>7</td>\n",
       "      <td>0</td>\n",
       "      <td>0</td>\n",
       "      <td>0</td>\n",
       "      <td>12</td>\n",
       "      <td>3.0</td>\n",
       "      <td>5.0</td>\n",
       "      <td>1.0</td>\n",
       "      <td>2.0</td>\n",
       "      <td>49.0</td>\n",
       "      <td>5.0</td>\n",
       "      <td>1.0</td>\n",
       "      <td>0.0</td>\n",
       "      <td>5.0</td>\n",
       "      <td>2.0</td>\n",
       "      <td>2.0</td>\n",
       "    </tr>\n",
       "  </tbody>\n",
       "</table>\n",
       "<p>1965105 rows × 18 columns</p>\n",
       "</div>"
      ],
      "text/plain": [
       "         Duration DEVICE_TYPE  type_touch  purchase_own purchase_any  \\\n",
       "4         120.000       FIXED           7             0            0   \n",
       "5         459.000       FIXED           1             0            0   \n",
       "6         183.000       FIXED           1             0            0   \n",
       "7          59.000       FIXED           1             0            0   \n",
       "8           5.000       FIXED           1             0            0   \n",
       "...           ...         ...         ...           ...          ...   \n",
       "2456401     6.724       FIXED           7             0            0   \n",
       "2456402    21.138       FIXED           1             0            0   \n",
       "2456403    58.235       FIXED           1             0            0   \n",
       "2456404    11.669       FIXED           1             0            0   \n",
       "2456405    12.711       FIXED           7             0            0   \n",
       "\n",
       "         MobilePanel  FixedPanel Region Size_of_Municipality  Household_Size  \\\n",
       "4                  0          17    5.0                  6.0             1.0   \n",
       "5                  0          17    5.0                  6.0             1.0   \n",
       "6                  0          17    5.0                  6.0             1.0   \n",
       "7                  0          17    5.0                  6.0             1.0   \n",
       "8                  0          17    5.0                  6.0             1.0   \n",
       "...              ...         ...    ...                  ...             ...   \n",
       "2456401            0          12    3.0                  5.0             1.0   \n",
       "2456402            0          12    3.0                  5.0             1.0   \n",
       "2456403            0          12    3.0                  5.0             1.0   \n",
       "2456404            0          12    3.0                  5.0             1.0   \n",
       "2456405            0          12    3.0                  5.0             1.0   \n",
       "\n",
       "        Gender   Age Kind_of_work Gross_income  no_of_children Social_Class  \\\n",
       "4          1.0  59.0          2.0          2.0             0.0          5.0   \n",
       "5          1.0  59.0          2.0          2.0             0.0          5.0   \n",
       "6          1.0  59.0          2.0          2.0             0.0          5.0   \n",
       "7          1.0  59.0          2.0          2.0             0.0          5.0   \n",
       "8          1.0  59.0          2.0          2.0             0.0          5.0   \n",
       "...        ...   ...          ...          ...             ...          ...   \n",
       "2456401    2.0  49.0          5.0          1.0             0.0          5.0   \n",
       "2456402    2.0  49.0          5.0          1.0             0.0          5.0   \n",
       "2456403    2.0  49.0          5.0          1.0             0.0          5.0   \n",
       "2456404    2.0  49.0          5.0          1.0             0.0          5.0   \n",
       "2456405    2.0  49.0          5.0          1.0             0.0          5.0   \n",
       "\n",
       "        Education Lifestage  \n",
       "4             2.0       2.0  \n",
       "5             2.0       2.0  \n",
       "6             2.0       2.0  \n",
       "7             2.0       2.0  \n",
       "8             2.0       2.0  \n",
       "...           ...       ...  \n",
       "2456401       2.0       2.0  \n",
       "2456402       2.0       2.0  \n",
       "2456403       2.0       2.0  \n",
       "2456404       2.0       2.0  \n",
       "2456405       2.0       2.0  \n",
       "\n",
       "[1965105 rows x 18 columns]"
      ]
     },
     "execution_count": 13,
     "metadata": {},
     "output_type": "execute_result"
    }
   ],
   "source": [
    "df_preprocessed"
   ]
  },
  {
   "cell_type": "code",
   "execution_count": 14,
   "id": "8d0a6fce",
   "metadata": {},
   "outputs": [],
   "source": [
    "df_preprocessed = df_preprocessed[['Duration', 'DEVICE_TYPE','purchase_any', 'Age', 'Gender', 'Gross_income','Social_Class', 'Kind_of_work', 'Household_Size']]"
   ]
  },
  {
   "cell_type": "markdown",
   "id": "244ec264",
   "metadata": {},
   "source": [
    "### Data Analysis"
   ]
  },
  {
   "cell_type": "markdown",
   "id": "0dddbb4a",
   "metadata": {},
   "source": [
    "#### Visualisation"
   ]
  },
  {
   "cell_type": "code",
   "execution_count": 15,
   "id": "66b02cbf",
   "metadata": {},
   "outputs": [
    {
     "name": "stdout",
     "output_type": "stream",
     "text": [
      "           Duration           Age  Household_Size\n",
      "count  1.965105e+06  1.965105e+06    1.965105e+06\n",
      "mean   5.634295e+01  5.163297e+01    2.470843e+00\n",
      "std    1.099257e+02  1.437140e+01    1.175878e+00\n",
      "min    0.000000e+00  1.700000e+01    1.000000e+00\n",
      "25%    6.000000e+00  4.100000e+01    2.000000e+00\n",
      "50%    1.945000e+01  5.200000e+01    2.000000e+00\n",
      "75%    5.700000e+01  6.300000e+01    3.000000e+00\n",
      "max    7.200000e+02  9.200000e+01    1.100000e+01\n"
     ]
    }
   ],
   "source": [
    "# Calculate summary statistics for the primary question\n",
    "summary_stats = df_preprocessed.describe()\n",
    "print(summary_stats)\n"
   ]
  },
  {
   "cell_type": "markdown",
   "id": "22d1bb86",
   "metadata": {},
   "source": [
    "#### Univariate"
   ]
  },
  {
   "cell_type": "code",
   "execution_count": 16,
   "id": "82c4a7ec",
   "metadata": {},
   "outputs": [
    {
     "data": {
      "image/png": "[encoded data removed]",
      "text/plain": [
       "<Figure size 432x288 with 1 Axes>"
      ]
     },
     "metadata": {
      "needs_background": "light"
     },
     "output_type": "display_data"
    },
    {
     "data": {
      "image/png": "[encoded data removed]",
      "text/plain": [
       "<Figure size 432x288 with 1 Axes>"
      ]
     },
     "metadata": {
      "needs_background": "light"
     },
     "output_type": "display_data"
    }
   ],
   "source": [
    "# Histogram of the duration of touchpoints\n",
    "plt.hist(df_preprocessed['Duration'], bins=10)\n",
    "plt.xlabel('Duration')\n",
    "plt.ylabel('Frequency')\n",
    "plt.title('Distribution of Touchpoint Duration')\n",
    "plt.show()\n",
    "\n",
    "# Bar plot of device type\n",
    "device_counts = df_preprocessed['DEVICE_TYPE'].value_counts()\n",
    "plt.bar(device_counts.index, device_counts.values)\n",
    "plt.xlabel('Device Type')\n",
    "plt.ylabel('Count')\n",
    "plt.title('Device Type Distribution')\n",
    "plt.show()\n",
    "\n"
   ]
  },
  {
   "cell_type": "code",
   "execution_count": 17,
   "id": "0e16989b",
   "metadata": {},
   "outputs": [
    {
     "data": {
      "image/png": "[encoded data removed]",
      "text/plain": [
       "<Figure size 432x288 with 1 Axes>"
      ]
     },
     "metadata": {
      "needs_background": "light"
     },
     "output_type": "display_data"
    },
    {
     "data": {
      "image/png": "[encoded data removed]",
      "text/plain": [
       "<Figure size 432x288 with 1 Axes>"
      ]
     },
     "metadata": {
      "needs_background": "light"
     },
     "output_type": "display_data"
    },
    {
     "data": {
      "image/png": "[encoded data removed]",
      "text/plain": [
       "<Figure size 432x288 with 1 Axes>"
      ]
     },
     "metadata": {
      "needs_background": "light"
     },
     "output_type": "display_data"
    },
    {
     "data": {
      "image/png": "[encoded data removed]",
      "text/plain": [
       "<Figure size 432x288 with 1 Axes>"
      ]
     },
     "metadata": {
      "needs_background": "light"
     },
     "output_type": "display_data"
    },
    {
     "data": {
      "image/png": "[encoded data removed]",
      "text/plain": [
       "<Figure size 432x288 with 1 Axes>"
      ]
     },
     "metadata": {
      "needs_background": "light"
     },
     "output_type": "display_data"
    },
    {
     "data": {
      "image/png": "[encoded data removed]",
      "text/plain": [
       "<Figure size 432x288 with 1 Axes>"
      ]
     },
     "metadata": {
      "needs_background": "light"
     },
     "output_type": "display_data"
    }
   ],
   "source": [
    "# Histogram of Age\n",
    "plt.hist(df_preprocessed['Age'], bins=10)\n",
    "plt.xlabel('Age')\n",
    "plt.ylabel('Frequency')\n",
    "plt.title('Distribution of Age')\n",
    "plt.show()\n",
    "\n",
    "# Bar plot of social class \n",
    "device_counts = df_preprocessed['Social_Class'].value_counts()\n",
    "plt.bar(device_counts.index, device_counts.values)\n",
    "plt.xlabel('Social_Class')\n",
    "plt.ylabel('Social Class Count')\n",
    "plt.title('Social_Class Distribution')\n",
    "plt.show()\n",
    "\n",
    "# Bar plot of Gross Income\n",
    "device_counts = df_preprocessed['Gross_income'].value_counts()\n",
    "plt.bar(device_counts.index, device_counts.values)\n",
    "plt.xlabel('Gross_income')\n",
    "plt.ylabel('Gross_income Count')\n",
    "plt.title('Gross_income Distribution')\n",
    "plt.show()\n",
    "\n",
    "# Bar plot of Kind of Work\n",
    "device_counts = df_preprocessed['Kind_of_work'].value_counts()\n",
    "plt.bar(device_counts.index, device_counts.values)\n",
    "plt.xlabel('Kind_of_work')\n",
    "plt.ylabel('Kind_of_work Count')\n",
    "plt.title('Kind_of_work Distribution')\n",
    "plt.show()\n",
    "\n",
    "# Bar plot of Gender\n",
    "device_counts = df_preprocessed['Gender'].value_counts()\n",
    "plt.bar(device_counts.index, device_counts.values)\n",
    "plt.xlabel('Gender')\n",
    "plt.ylabel('Gender Count')\n",
    "plt.title('Gender Distribution')\n",
    "plt.show()\n",
    "\n",
    "\n",
    "#Histogram\n",
    "plt.hist(df_preprocessed['Household_Size'], bins=10)\n",
    "plt.xlabel('Household_Size')\n",
    "plt.ylabel('Frequency')\n",
    "plt.title('Distribution of Household_Size')\n",
    "plt.show()\n",
    "\n"
   ]
  },
  {
   "cell_type": "markdown",
   "id": "27a814d5",
   "metadata": {},
   "source": [
    "#### Bivariate"
   ]
  },
  {
   "cell_type": "code",
   "execution_count": 18,
   "id": "fe3f4b88",
   "metadata": {},
   "outputs": [
    {
     "data": {
      "image/png": "[encoded data removed]",
      "text/plain": [
       "<Figure size 576x432 with 2 Axes>"
      ]
     },
     "metadata": {
      "needs_background": "light"
     },
     "output_type": "display_data"
    }
   ],
   "source": [
    "# Select relevant variables for correlation analysis\n",
    "correlation_vars = ['Duration', 'Age']\n",
    "\n",
    "# Calculate correlation matrix\n",
    "correlation_matrix = df_preprocessed[correlation_vars].corr()\n",
    "\n",
    "# Plot correlation matrix heatmap\n",
    "plt.figure(figsize=(8, 6))\n",
    "sns.heatmap(correlation_matrix, annot=True, cmap='coolwarm')\n",
    "plt.title('Correlation Matrix Heatmap')\n",
    "plt.show()\n"
   ]
  },
  {
   "cell_type": "code",
   "execution_count": 19,
   "id": "fa9c36b2",
   "metadata": {},
   "outputs": [
    {
     "data": {
      "image/png": "[encoded data removed]",
      "text/plain": [
       "<Figure size 432x288 with 1 Axes>"
      ]
     },
     "metadata": {
      "needs_background": "light"
     },
     "output_type": "display_data"
    }
   ],
   "source": [
    "age_by_purchase = df_preprocessed.groupby('purchase_any')['Age'].mean()\n",
    "plt.bar(age_by_purchase.index, age_by_purchase.values)\n",
    "plt.xlabel('Purchase Any')\n",
    "plt.ylabel('Average Age')\n",
    "plt.title('Distribution of Age by Purchase Any')\n",
    "plt.show()\n",
    "\n"
   ]
  },
  {
   "cell_type": "code",
   "execution_count": 20,
   "id": "b063068a",
   "metadata": {},
   "outputs": [
    {
     "data": {
      "image/png": "[encoded data removed]",
      "text/plain": [
       "<Figure size 432x288 with 1 Axes>"
      ]
     },
     "metadata": {
      "needs_background": "light"
     },
     "output_type": "display_data"
    }
   ],
   "source": [
    "duration_by_purchase = df_preprocessed.groupby('purchase_any')['Duration'].mean()\n",
    "plt.bar(duration_by_purchase.index, duration_by_purchase.values)\n",
    "plt.xlabel('Purchase Any')\n",
    "plt.ylabel('Average Duration')\n",
    "plt.title('Distribution of Duration by Purchase Any')\n",
    "plt.show()\n"
   ]
  },
  {
   "cell_type": "code",
   "execution_count": 21,
   "id": "9012a5c6",
   "metadata": {},
   "outputs": [
    {
     "data": {
      "image/png": "[encoded data removed]",
      "text/plain": [
       "<Figure size 432x288 with 3 Axes>"
      ]
     },
     "metadata": {
      "needs_background": "light"
     },
     "output_type": "display_data"
    }
   ],
   "source": [
    "import pandas as pd\n",
    "import matplotlib.pyplot as plt\n",
    "from statsmodels.graphics.mosaicplot import mosaic\n",
    "\n",
    "# Create a cross-tabulation of Income and Purchase Any variable\n",
    "cross_tab = pd.crosstab(df_preprocessed['Gross_income'], df_preprocessed['purchase_any'])\n",
    "\n",
    "# Create a subplot with the mosaic plot\n",
    "fig, ax = plt.subplots()\n",
    "mosaic(cross_tab.stack(), ax=ax, title='Mosaic Plot: Gross_income vs purchase_any')\n",
    "\n",
    "# Set x and y axis labels\n",
    "ax.set_xlabel('Gross_income categories')\n",
    "ax.set_ylabel('purchase_any categories')\n",
    "\n",
    "# Display the plot\n",
    "plt.show()\n"
   ]
  },
  {
   "cell_type": "code",
   "execution_count": 22,
   "id": "0f7b03d6",
   "metadata": {},
   "outputs": [
    {
     "data": {
      "image/png": "[encoded data removed]",
      "text/plain": [
       "<Figure size 432x288 with 3 Axes>"
      ]
     },
     "metadata": {
      "needs_background": "light"
     },
     "output_type": "display_data"
    }
   ],
   "source": [
    "# Create a cross-tabulation of Income and Purchase Any variable\n",
    "cross_tab = pd.crosstab(df_preprocessed['Social_Class'], df_preprocessed['purchase_any'])\n",
    "\n",
    "# Create a subplot with the mosaic plot\n",
    "fig, ax = plt.subplots()\n",
    "mosaic(cross_tab.stack(), ax=ax, title='Mosaic Plot: Social_Class vs purchase_any')\n",
    "\n",
    "# Set x and y axis labels\n",
    "ax.set_xlabel('Social_Class categories')\n",
    "ax.set_ylabel('purchase_any categories')\n",
    "# Display the plot\n",
    "plt.show()"
   ]
  },
  {
   "cell_type": "code",
   "execution_count": 23,
   "id": "25beb443",
   "metadata": {},
   "outputs": [
    {
     "data": {
      "image/png": "[encoded data removed]",
      "text/plain": [
       "<Figure size 432x288 with 3 Axes>"
      ]
     },
     "metadata": {
      "needs_background": "light"
     },
     "output_type": "display_data"
    }
   ],
   "source": [
    "# Create a cross-tabulation of Gender and Purchase Any variable\n",
    "cross_tab = pd.crosstab(df_preprocessed['Gender'], df_preprocessed['purchase_any'])\n",
    "\n",
    "# Create a subplot with the mosaic plot\n",
    "fig, ax = plt.subplots()\n",
    "mosaic(cross_tab.stack(), ax=ax, title='Mosaic Plot: Gender vs purchase_any')\n",
    "\n",
    "# Set x and y axis labels\n",
    "ax.set_xlabel('Gender categories')\n",
    "ax.set_ylabel('purchase_any categories')\n",
    "\n",
    "# Display the plot\n",
    "plt.show()"
   ]
  },
  {
   "cell_type": "code",
   "execution_count": 24,
   "id": "07698c9d",
   "metadata": {},
   "outputs": [
    {
     "data": {
      "text/plain": [
       "<Figure size 720x432 with 0 Axes>"
      ]
     },
     "metadata": {},
     "output_type": "display_data"
    },
    {
     "data": {
      "image/png": "[encoded data removed]",
      "text/plain": [
       "<Figure size 432x288 with 3 Axes>"
      ]
     },
     "metadata": {
      "needs_background": "light"
     },
     "output_type": "display_data"
    }
   ],
   "source": [
    "# Create a cross-tabulation of Kind_of_work and Purchase Any variable\n",
    "cross_tab = pd.crosstab(df_preprocessed['Kind_of_work'], df_preprocessed['purchase_any'])\n",
    "\n",
    "# Set the figure size\n",
    "plt.figure(figsize=(10, 6))\n",
    "\n",
    "# Create a subplot with the mosaic plot\n",
    "fig, ax = plt.subplots()\n",
    "mosaic(cross_tab.stack(), ax=ax, title='Mosaic Plot: Kind_of_work vs purchase_any')\n",
    "\n",
    "# Remove in-graph labels\n",
    "for text in ax.texts:\n",
    "    text.set_visible(False)\n",
    "\n",
    "# Set x and y axis labels\n",
    "ax.set_xlabel('Kind_of_work categories')\n",
    "ax.set_ylabel('purchase_any categories')\n",
    "\n",
    "# Display the plot\n",
    "plt.show()"
   ]
  },
  {
   "cell_type": "code",
   "execution_count": 25,
   "id": "8791c55f",
   "metadata": {},
   "outputs": [
    {
     "data": {
      "text/plain": [
       "<Figure size 720x432 with 0 Axes>"
      ]
     },
     "metadata": {},
     "output_type": "display_data"
    },
    {
     "data": {
      "image/png": "[encoded data removed]",
      "text/plain": [
       "<Figure size 432x288 with 3 Axes>"
      ]
     },
     "metadata": {
      "needs_background": "light"
     },
     "output_type": "display_data"
    }
   ],
   "source": [
    "#Create a cross-tabulation of Household_Size and Purchase Any variable\n",
    "cross_tab = pd.crosstab(df_preprocessed['Household_Size'], df_preprocessed['purchase_any'])\n",
    "\n",
    "# Set the figure size\n",
    "plt.figure(figsize=(10, 6))\n",
    "\n",
    "# Create a subplot with the mosaic plot\n",
    "fig, ax = plt.subplots()\n",
    "mosaic(cross_tab.stack(), ax=ax, title='Mosaic Plot: Household_Size vs purchase_any')\n",
    "\n",
    "\n",
    "# Remove in-graph labels\n",
    "for text in ax.texts:\n",
    "    text.set_visible(False)\n",
    "    \n",
    "# Set x and y axis labels\n",
    "ax.set_xlabel('Household_Size categories')\n",
    "ax.set_ylabel('purchase_any categories')\n",
    "\n",
    "# Display the plot\n",
    "plt.show()"
   ]
  },
  {
   "cell_type": "markdown",
   "id": "446056e2",
   "metadata": {},
   "source": [
    "### Modelling"
   ]
  },
  {
   "cell_type": "markdown",
   "id": "ededf074",
   "metadata": {},
   "source": [
    "#### 1. Logistic Regression"
   ]
  },
  {
   "cell_type": "code",
   "execution_count": 26,
   "id": "c7dde48d",
   "metadata": {},
   "outputs": [
    {
     "name": "stdout",
     "output_type": "stream",
     "text": [
      "Intercept: [-0.74588947]\n",
      "Coefficients: [[-0.01321423 -0.01322776 -0.00200276 -0.13059992  0.13622023  0.00355809\n",
      "   0.00039634]]\n"
     ]
    },
    {
     "name": "stderr",
     "output_type": "stream",
     "text": [
      "/Users/neilbanerjee/opt/anaconda3/lib/python3.9/site-packages/sklearn/linear_model/_logistic.py:814: ConvergenceWarning: lbfgs failed to converge (status=1):\n",
      "STOP: TOTAL NO. of ITERATIONS REACHED LIMIT.\n",
      "\n",
      "Increase the number of iterations (max_iter) or scale the data as shown in:\n",
      "    https://scikit-learn.org/stable/modules/preprocessing.html\n",
      "Please also refer to the documentation for alternative solver options:\n",
      "    https://scikit-learn.org/stable/modules/linear_model.html#logistic-regression\n",
      "  n_iter_i = _check_optimize_result(\n"
     ]
    }
   ],
   "source": [
    "from sklearn.linear_model import LogisticRegression\n",
    "\n",
    "# Select the independent variables and the dependent variable\n",
    "X = df_preprocessed[['Gross_income', 'Kind_of_work', 'Gender', 'Social_Class', 'Household_Size', 'Age', 'Duration']]\n",
    "y = df_preprocessed['purchase_any']\n",
    "\n",
    "# Create an instance of the LogisticRegression model\n",
    "logreg = LogisticRegression()\n",
    "#print(logreg)\n",
    "\n",
    "# Fit the model to the data\n",
    "logreg.fit(X, y)\n",
    "\n",
    "# Print the coefficients and intercept\n",
    "print('Intercept:', logreg.intercept_)\n",
    "print('Coefficients:', logreg.coef_)\n"
   ]
  },
  {
   "cell_type": "markdown",
   "id": "ed5266a6",
   "metadata": {},
   "source": [
    "#### Hyperparameter tuning"
   ]
  },
  {
   "cell_type": "code",
   "execution_count": 29,
   "id": "27be336f",
   "metadata": {},
   "outputs": [
    {
     "name": "stderr",
     "output_type": "stream",
     "text": [
      "/Users/neilbanerjee/opt/anaconda3/lib/python3.9/site-packages/sklearn/linear_model/_logistic.py:814: ConvergenceWarning: lbfgs failed to converge (status=1):\n",
      "STOP: TOTAL NO. of ITERATIONS REACHED LIMIT.\n",
      "\n",
      "Increase the number of iterations (max_iter) or scale the data as shown in:\n",
      "    https://scikit-learn.org/stable/modules/preprocessing.html\n",
      "Please also refer to the documentation for alternative solver options:\n",
      "    https://scikit-learn.org/stable/modules/linear_model.html#logistic-regression\n",
      "  n_iter_i = _check_optimize_result(\n",
      "/Users/neilbanerjee/opt/anaconda3/lib/python3.9/site-packages/sklearn/linear_model/_logistic.py:814: ConvergenceWarning: lbfgs failed to converge (status=1):\n",
      "STOP: TOTAL NO. of ITERATIONS REACHED LIMIT.\n",
      "\n",
      "Increase the number of iterations (max_iter) or scale the data as shown in:\n",
      "    https://scikit-learn.org/stable/modules/preprocessing.html\n",
      "Please also refer to the documentation for alternative solver options:\n",
      "    https://scikit-learn.org/stable/modules/linear_model.html#logistic-regression\n",
      "  n_iter_i = _check_optimize_result(\n",
      "/Users/neilbanerjee/opt/anaconda3/lib/python3.9/site-packages/sklearn/linear_model/_logistic.py:814: ConvergenceWarning: lbfgs failed to converge (status=1):\n",
      "STOP: TOTAL NO. of ITERATIONS REACHED LIMIT.\n",
      "\n",
      "Increase the number of iterations (max_iter) or scale the data as shown in:\n",
      "    https://scikit-learn.org/stable/modules/preprocessing.html\n",
      "Please also refer to the documentation for alternative solver options:\n",
      "    https://scikit-learn.org/stable/modules/linear_model.html#logistic-regression\n",
      "  n_iter_i = _check_optimize_result(\n",
      "/Users/neilbanerjee/opt/anaconda3/lib/python3.9/site-packages/sklearn/linear_model/_logistic.py:814: ConvergenceWarning: lbfgs failed to converge (status=1):\n",
      "STOP: TOTAL NO. of ITERATIONS REACHED LIMIT.\n",
      "\n",
      "Increase the number of iterations (max_iter) or scale the data as shown in:\n",
      "    https://scikit-learn.org/stable/modules/preprocessing.html\n",
      "Please also refer to the documentation for alternative solver options:\n",
      "    https://scikit-learn.org/stable/modules/linear_model.html#logistic-regression\n",
      "  n_iter_i = _check_optimize_result(\n",
      "/Users/neilbanerjee/opt/anaconda3/lib/python3.9/site-packages/sklearn/linear_model/_logistic.py:814: ConvergenceWarning: lbfgs failed to converge (status=1):\n",
      "STOP: TOTAL NO. of ITERATIONS REACHED LIMIT.\n",
      "\n",
      "Increase the number of iterations (max_iter) or scale the data as shown in:\n",
      "    https://scikit-learn.org/stable/modules/preprocessing.html\n",
      "Please also refer to the documentation for alternative solver options:\n",
      "    https://scikit-learn.org/stable/modules/linear_model.html#logistic-regression\n",
      "  n_iter_i = _check_optimize_result(\n",
      "/Users/neilbanerjee/opt/anaconda3/lib/python3.9/site-packages/sklearn/linear_model/_logistic.py:814: ConvergenceWarning: lbfgs failed to converge (status=1):\n",
      "STOP: TOTAL NO. of ITERATIONS REACHED LIMIT.\n",
      "\n",
      "Increase the number of iterations (max_iter) or scale the data as shown in:\n",
      "    https://scikit-learn.org/stable/modules/preprocessing.html\n",
      "Please also refer to the documentation for alternative solver options:\n",
      "    https://scikit-learn.org/stable/modules/linear_model.html#logistic-regression\n",
      "  n_iter_i = _check_optimize_result(\n",
      "/Users/neilbanerjee/opt/anaconda3/lib/python3.9/site-packages/sklearn/linear_model/_logistic.py:814: ConvergenceWarning: lbfgs failed to converge (status=1):\n",
      "STOP: TOTAL NO. of ITERATIONS REACHED LIMIT.\n",
      "\n",
      "Increase the number of iterations (max_iter) or scale the data as shown in:\n",
      "    https://scikit-learn.org/stable/modules/preprocessing.html\n",
      "Please also refer to the documentation for alternative solver options:\n",
      "    https://scikit-learn.org/stable/modules/linear_model.html#logistic-regression\n",
      "  n_iter_i = _check_optimize_result(\n",
      "/Users/neilbanerjee/opt/anaconda3/lib/python3.9/site-packages/sklearn/linear_model/_logistic.py:814: ConvergenceWarning: lbfgs failed to converge (status=1):\n",
      "STOP: TOTAL NO. of ITERATIONS REACHED LIMIT.\n",
      "\n",
      "Increase the number of iterations (max_iter) or scale the data as shown in:\n",
      "    https://scikit-learn.org/stable/modules/preprocessing.html\n",
      "Please also refer to the documentation for alternative solver options:\n",
      "    https://scikit-learn.org/stable/modules/linear_model.html#logistic-regression\n",
      "  n_iter_i = _check_optimize_result(\n",
      "/Users/neilbanerjee/opt/anaconda3/lib/python3.9/site-packages/sklearn/linear_model/_logistic.py:814: ConvergenceWarning: lbfgs failed to converge (status=1):\n",
      "STOP: TOTAL NO. of ITERATIONS REACHED LIMIT.\n",
      "\n",
      "Increase the number of iterations (max_iter) or scale the data as shown in:\n",
      "    https://scikit-learn.org/stable/modules/preprocessing.html\n",
      "Please also refer to the documentation for alternative solver options:\n",
      "    https://scikit-learn.org/stable/modules/linear_model.html#logistic-regression\n",
      "  n_iter_i = _check_optimize_result(\n",
      "/Users/neilbanerjee/opt/anaconda3/lib/python3.9/site-packages/sklearn/linear_model/_logistic.py:814: ConvergenceWarning: lbfgs failed to converge (status=1):\n",
      "STOP: TOTAL NO. of ITERATIONS REACHED LIMIT.\n",
      "\n",
      "Increase the number of iterations (max_iter) or scale the data as shown in:\n",
      "    https://scikit-learn.org/stable/modules/preprocessing.html\n",
      "Please also refer to the documentation for alternative solver options:\n",
      "    https://scikit-learn.org/stable/modules/linear_model.html#logistic-regression\n",
      "  n_iter_i = _check_optimize_result(\n",
      "/Users/neilbanerjee/opt/anaconda3/lib/python3.9/site-packages/sklearn/linear_model/_logistic.py:814: ConvergenceWarning: lbfgs failed to converge (status=1):\n",
      "STOP: TOTAL NO. of ITERATIONS REACHED LIMIT.\n",
      "\n",
      "Increase the number of iterations (max_iter) or scale the data as shown in:\n",
      "    https://scikit-learn.org/stable/modules/preprocessing.html\n",
      "Please also refer to the documentation for alternative solver options:\n",
      "    https://scikit-learn.org/stable/modules/linear_model.html#logistic-regression\n",
      "  n_iter_i = _check_optimize_result(\n",
      "/Users/neilbanerjee/opt/anaconda3/lib/python3.9/site-packages/sklearn/linear_model/_logistic.py:814: ConvergenceWarning: lbfgs failed to converge (status=1):\n",
      "STOP: TOTAL NO. of ITERATIONS REACHED LIMIT.\n",
      "\n",
      "Increase the number of iterations (max_iter) or scale the data as shown in:\n",
      "    https://scikit-learn.org/stable/modules/preprocessing.html\n",
      "Please also refer to the documentation for alternative solver options:\n",
      "    https://scikit-learn.org/stable/modules/linear_model.html#logistic-regression\n",
      "  n_iter_i = _check_optimize_result(\n",
      "/Users/neilbanerjee/opt/anaconda3/lib/python3.9/site-packages/sklearn/linear_model/_logistic.py:814: ConvergenceWarning: lbfgs failed to converge (status=1):\n",
      "STOP: TOTAL NO. of ITERATIONS REACHED LIMIT.\n",
      "\n",
      "Increase the number of iterations (max_iter) or scale the data as shown in:\n",
      "    https://scikit-learn.org/stable/modules/preprocessing.html\n",
      "Please also refer to the documentation for alternative solver options:\n",
      "    https://scikit-learn.org/stable/modules/linear_model.html#logistic-regression\n",
      "  n_iter_i = _check_optimize_result(\n",
      "/Users/neilbanerjee/opt/anaconda3/lib/python3.9/site-packages/sklearn/linear_model/_logistic.py:814: ConvergenceWarning: lbfgs failed to converge (status=1):\n",
      "STOP: TOTAL NO. of ITERATIONS REACHED LIMIT.\n",
      "\n",
      "Increase the number of iterations (max_iter) or scale the data as shown in:\n",
      "    https://scikit-learn.org/stable/modules/preprocessing.html\n",
      "Please also refer to the documentation for alternative solver options:\n",
      "    https://scikit-learn.org/stable/modules/linear_model.html#logistic-regression\n",
      "  n_iter_i = _check_optimize_result(\n",
      "/Users/neilbanerjee/opt/anaconda3/lib/python3.9/site-packages/sklearn/model_selection/_validation.py:372: FitFailedWarning: \n",
      "15 fits failed out of a total of 30.\n",
      "The score on these train-test partitions for these parameters will be set to nan.\n",
      "If these failures are not expected, you can try to debug them by setting error_score='raise'.\n",
      "\n",
      "Below are more details about the failures:\n",
      "--------------------------------------------------------------------------------\n",
      "15 fits failed with the following error:\n",
      "Traceback (most recent call last):\n",
      "  File \"/Users/neilbanerjee/opt/anaconda3/lib/python3.9/site-packages/sklearn/model_selection/_validation.py\", line 680, in _fit_and_score\n",
      "    estimator.fit(X_train, y_train, **fit_params)\n",
      "  File \"/Users/neilbanerjee/opt/anaconda3/lib/python3.9/site-packages/sklearn/linear_model/_logistic.py\", line 1461, in fit\n",
      "    solver = _check_solver(self.solver, self.penalty, self.dual)\n",
      "  File \"/Users/neilbanerjee/opt/anaconda3/lib/python3.9/site-packages/sklearn/linear_model/_logistic.py\", line 447, in _check_solver\n",
      "    raise ValueError(\n",
      "ValueError: Solver lbfgs supports only 'l2' or 'none' penalties, got l1 penalty.\n",
      "\n",
      "  warnings.warn(some_fits_failed_message, FitFailedWarning)\n",
      "/Users/neilbanerjee/opt/anaconda3/lib/python3.9/site-packages/sklearn/model_selection/_search.py:969: UserWarning: One or more of the test scores are non-finite: [       nan 0.65709657        nan 0.65703487        nan 0.65718244]\n",
      "  warnings.warn(\n"
     ]
    },
    {
     "name": "stdout",
     "output_type": "stream",
     "text": [
      "Best Model Accuracy: 0.6561735886886452\n",
      "Best Hyperparameters: {'C': 1.0, 'penalty': 'l2'}\n"
     ]
    },
    {
     "name": "stderr",
     "output_type": "stream",
     "text": [
      "/Users/neilbanerjee/opt/anaconda3/lib/python3.9/site-packages/sklearn/linear_model/_logistic.py:814: ConvergenceWarning: lbfgs failed to converge (status=1):\n",
      "STOP: TOTAL NO. of ITERATIONS REACHED LIMIT.\n",
      "\n",
      "Increase the number of iterations (max_iter) or scale the data as shown in:\n",
      "    https://scikit-learn.org/stable/modules/preprocessing.html\n",
      "Please also refer to the documentation for alternative solver options:\n",
      "    https://scikit-learn.org/stable/modules/linear_model.html#logistic-regression\n",
      "  n_iter_i = _check_optimize_result(\n"
     ]
    }
   ],
   "source": [
    "from sklearn.linear_model import LogisticRegression\n",
    "from sklearn.model_selection import train_test_split, GridSearchCV\n",
    "from sklearn.metrics import accuracy_score\n",
    "\n",
    "# Select the independent variables and the dependent variable\n",
    "X = df_preprocessed[['Gross_income', 'Kind_of_work', 'Gender', 'Social_Class', 'Household_Size', 'Age', 'Duration']]\n",
    "y = df_preprocessed['purchase_any']\n",
    "\n",
    "# Split the dataset into training and testing sets (80% training, 20% testing)\n",
    "X_train, X_test, y_train, y_test = train_test_split(X, y, test_size=0.2, random_state=42)\n",
    "\n",
    "# Create an instance of the LogisticRegression model\n",
    "logreg = LogisticRegression()\n",
    "\n",
    "# Define the hyperparameters and their potential values for tuning\n",
    "param_grid = {\n",
    "    'C': [0.01, 0.1, 1.0],          # Inverse of regularization strength (smaller values specify stronger regularization)\n",
    "    'penalty': ['l1', 'l2'],              # Regularization type ('l1': Lasso, 'l2': Ridge)\n",
    "}\n",
    "\n",
    "# Create a GridSearchCV object with the model and hyperparameters\n",
    "grid_search = GridSearchCV(estimator=logreg, param_grid=param_grid, cv=5, scoring='accuracy')\n",
    "\n",
    "# Perform the grid search on the training data\n",
    "grid_search.fit(X_train, y_train)\n",
    "\n",
    "# Get the best model from the grid search\n",
    "best_logreg_model = grid_search.best_estimator_\n",
    "\n",
    "# Make predictions on the testing data using the best model\n",
    "y_pred = best_logreg_model.predict(X_test)\n",
    "\n",
    "# Calculate accuracy\n",
    "accuracy = accuracy_score(y_test, y_pred)\n",
    "print(\"Best Model Accuracy:\", accuracy)\n",
    "\n",
    "# Print the best hyperparameters\n",
    "print(\"Best Hyperparameters:\", grid_search.best_params_)\n"
   ]
  },
  {
   "cell_type": "markdown",
   "id": "3f85828b",
   "metadata": {},
   "source": [
    "#### Evaluation"
   ]
  },
  {
   "cell_type": "code",
   "execution_count": 30,
   "id": "9b81c574",
   "metadata": {},
   "outputs": [
    {
     "name": "stdout",
     "output_type": "stream",
     "text": [
      "Classification Report:\n",
      "              precision    recall  f1-score   support\n",
      "\n",
      "           0       0.66      1.00      0.79    258078\n",
      "           1       0.42      0.00      0.01    134943\n",
      "\n",
      "    accuracy                           0.66    393021\n",
      "   macro avg       0.54      0.50      0.40    393021\n",
      "weighted avg       0.57      0.66      0.52    393021\n",
      "\n"
     ]
    }
   ],
   "source": [
    "from sklearn.metrics import classification_report\n",
    "\n",
    "# Generate a classification report\n",
    "classification_report_str = classification_report(y_test, y_pred)\n",
    "print('Classification Report:')\n",
    "print(classification_report_str)\n"
   ]
  },
  {
   "cell_type": "code",
   "execution_count": 31,
   "id": "bac4ab7a",
   "metadata": {},
   "outputs": [
    {
     "name": "stdout",
     "output_type": "stream",
     "text": [
      "Overall Precision: 0.5746460890793548\n",
      "Overall Recall: 0.6561735886886452\n",
      "Overall F1-score: 0.5225268066500995\n"
     ]
    }
   ],
   "source": [
    "from sklearn.metrics import classification_report, precision_recall_fscore_support\n",
    "\n",
    "# Assuming you have already performed the classification and have y_test and y_pred\n",
    "\n",
    "# Generate a classification report\n",
    "classification_report_str = classification_report(y_test, y_pred)\n",
    "\n",
    "# Parse the classification report to get precision, recall, and f1-score\n",
    "precision, recall, f1_score, _ = precision_recall_fscore_support(y_test, y_pred, average='weighted')\n",
    "\n",
    "# Print the results\n",
    "print(\"Overall Precision:\", precision)\n",
    "print(\"Overall Recall:\", recall)\n",
    "print(\"Overall F1-score:\", f1_score)\n"
   ]
  },
  {
   "cell_type": "markdown",
   "id": "f82fb7d6",
   "metadata": {},
   "source": [
    "#### 2. Decision Tree"
   ]
  },
  {
   "cell_type": "markdown",
   "id": "8066712a",
   "metadata": {},
   "source": [
    "#### Hyperparameter Tuning"
   ]
  },
  {
   "cell_type": "code",
   "execution_count": 32,
   "id": "44aaacd2",
   "metadata": {},
   "outputs": [
    {
     "name": "stdout",
     "output_type": "stream",
     "text": [
      "Best Decision Tree Model Accuracy: 0.8266886502247971\n",
      "Best Decision Tree Hyperparameters: {'max_depth': 20, 'min_samples_split': 2}\n"
     ]
    }
   ],
   "source": [
    "from sklearn.tree import DecisionTreeClassifier\n",
    "from sklearn.model_selection import train_test_split, GridSearchCV\n",
    "\n",
    "# Create an instance of the DecisionTreeClassifier model\n",
    "dt = DecisionTreeClassifier()\n",
    "\n",
    "# Define the hyperparameters and their potential values for tuning\n",
    "param_grid = {\n",
    "    'max_depth': [None, 5, 10, 20],              # Maximum depth of the tree\n",
    "    'min_samples_split': [2, 5, 10]              # Minimum number of samples required to split an internal node\n",
    "}\n",
    "\n",
    "# Create a GridSearchCV object with the model and hyperparameters\n",
    "grid_search_dt = GridSearchCV(estimator=dt, param_grid=param_grid, cv=5, scoring='accuracy')\n",
    "\n",
    "# Perform the grid search on the training data\n",
    "grid_search_dt.fit(X_train, y_train)\n",
    "\n",
    "# Get the best model from the grid search\n",
    "best_dt_model = grid_search_dt.best_estimator_\n",
    "\n",
    "# Make predictions on the testing data using the best model\n",
    "y_pred_dt = best_dt_model.predict(X_test)\n",
    "\n",
    "# Calculate accuracy\n",
    "accuracy_dt = accuracy_score(y_test, y_pred_dt)\n",
    "print(\"Best Decision Tree Model Accuracy:\", accuracy_dt)\n",
    "\n",
    "# Print the best hyperparameters\n",
    "print(\"Best Decision Tree Hyperparameters:\", grid_search_dt.best_params_)\n"
   ]
  },
  {
   "cell_type": "markdown",
   "id": "503c76fb",
   "metadata": {},
   "source": [
    "#### Evaluation"
   ]
  },
  {
   "cell_type": "code",
   "execution_count": 33,
   "id": "d3334810",
   "metadata": {},
   "outputs": [
    {
     "name": "stdout",
     "output_type": "stream",
     "text": [
      "Classification Report:\n",
      "              precision    recall  f1-score   support\n",
      "\n",
      "           0       0.87      0.87      0.87    258078\n",
      "           1       0.75      0.74      0.75    134943\n",
      "\n",
      "    accuracy                           0.83    393021\n",
      "   macro avg       0.81      0.81      0.81    393021\n",
      "weighted avg       0.83      0.83      0.83    393021\n",
      "\n"
     ]
    }
   ],
   "source": [
    "from sklearn.metrics import classification_report\n",
    "\n",
    "# Generate a classification report\n",
    "classification_report_str = classification_report(y_test, y_pred_dt)\n",
    "print('Classification Report:')\n",
    "print(classification_report_str)"
   ]
  },
  {
   "cell_type": "code",
   "execution_count": 34,
   "id": "d6de0581",
   "metadata": {},
   "outputs": [
    {
     "data": {
      "image/png": "[encoded data removed]",
      "text/plain": [
       "<Figure size 720x432 with 1 Axes>"
      ]
     },
     "metadata": {
      "needs_background": "light"
     },
     "output_type": "display_data"
    }
   ],
   "source": [
    "import matplotlib.pyplot as plt\n",
    "\n",
    "# Get feature importances from the best Decision Tree model\n",
    "feature_importances = best_dt_model.feature_importances_\n",
    "\n",
    "# Get the names of the features\n",
    "feature_names = X_train.columns\n",
    "\n",
    "# Sort feature importances in descending order\n",
    "sorted_idx = feature_importances.argsort()[::-1]\n",
    "\n",
    "# Plot the feature importances\n",
    "plt.figure(figsize=(10, 6))\n",
    "plt.title(\"Feature Importance\")\n",
    "plt.bar(range(X_train.shape[1]), feature_importances[sorted_idx], align=\"center\")\n",
    "plt.xticks(range(X_train.shape[1]), np.array(feature_names)[sorted_idx], rotation=90)\n",
    "plt.tight_layout()\n",
    "plt.show()\n"
   ]
  },
  {
   "cell_type": "code",
   "execution_count": 37,
   "id": "cd591584",
   "metadata": {},
   "outputs": [
    {
     "name": "stdout",
     "output_type": "stream",
     "text": [
      "Overall Precision: 0.8264970528135223\n",
      "Overall Recall: 0.8267115497645164\n",
      "Overall F1-score: 0.8266014087362593\n"
     ]
    }
   ],
   "source": [
    "from sklearn.metrics import classification_report, precision_recall_fscore_support\n",
    "\n",
    "# Assuming you have already performed the classification and have y_test and y_pred\n",
    "\n",
    "# Generate a classification report\n",
    "classification_report_str = classification_report(y_test, y_pred_dt)\n",
    "\n",
    "# Parse the classification report to get precision, recall, and f1-score\n",
    "precision, recall, f1_score, _ = precision_recall_fscore_support(y_test, y_pred_dt, average='weighted')\n",
    "\n",
    "# Print the results\n",
    "print(\"Overall Precision:\", precision)\n",
    "print(\"Overall Recall:\", recall)\n",
    "print(\"Overall F1-score:\", f1_score)\n"
   ]
  },
  {
   "cell_type": "code",
   "execution_count": 45,
   "id": "fc02eaa9",
   "metadata": {},
   "outputs": [
    {
     "ename": "AttributeError",
     "evalue": "'numpy.ndarray' object has no attribute 'columns'",
     "output_type": "error",
     "traceback": [
      "\u001b[0;31m---------------------------------------------------------------------------\u001b[0m",
      "\u001b[0;31mAttributeError\u001b[0m                            Traceback (most recent call last)",
      "Input \u001b[0;32mIn [45]\u001b[0m, in \u001b[0;36m<cell line: 9>\u001b[0;34m()\u001b[0m\n\u001b[1;32m      4\u001b[0m \u001b[38;5;66;03m# Assuming you have already obtained the best Decision Tree model from the grid search\u001b[39;00m\n\u001b[1;32m      5\u001b[0m \u001b[38;5;66;03m# You can use 'best_dt_model' as obtained in your code\u001b[39;00m\n\u001b[1;32m      6\u001b[0m \n\u001b[1;32m      7\u001b[0m \u001b[38;5;66;03m# Plot the Decision Tree\u001b[39;00m\n\u001b[1;32m      8\u001b[0m plt\u001b[38;5;241m.\u001b[39mfigure(figsize\u001b[38;5;241m=\u001b[39m(\u001b[38;5;241m12\u001b[39m, \u001b[38;5;241m8\u001b[39m))\n\u001b[0;32m----> 9\u001b[0m plot_tree(best_dt_model, filled\u001b[38;5;241m=\u001b[39m\u001b[38;5;28;01mTrue\u001b[39;00m, feature_names\u001b[38;5;241m=\u001b[39m\u001b[43mX_train\u001b[49m\u001b[38;5;241;43m.\u001b[39;49m\u001b[43mcolumns\u001b[49m, class_names\u001b[38;5;241m=\u001b[39m[\u001b[38;5;124m'\u001b[39m\u001b[38;5;124mclass_0\u001b[39m\u001b[38;5;124m'\u001b[39m, \u001b[38;5;124m'\u001b[39m\u001b[38;5;124mclass_1\u001b[39m\u001b[38;5;124m'\u001b[39m])\n\u001b[1;32m     10\u001b[0m plt\u001b[38;5;241m.\u001b[39mtitle(\u001b[38;5;124m\"\u001b[39m\u001b[38;5;124mBest Decision Tree Visualization\u001b[39m\u001b[38;5;124m\"\u001b[39m)\n\u001b[1;32m     11\u001b[0m plt\u001b[38;5;241m.\u001b[39mshow()\n",
      "\u001b[0;31mAttributeError\u001b[0m: 'numpy.ndarray' object has no attribute 'columns'"
     ]
    },
    {
     "data": {
      "text/plain": [
       "<Figure size 864x576 with 0 Axes>"
      ]
     },
     "metadata": {},
     "output_type": "display_data"
    }
   ],
   "source": [
    "import matplotlib.pyplot as plt\n",
    "from sklearn.tree import plot_tree\n",
    "\n",
    "# Assuming you have already obtained the best Decision Tree model from the grid search\n",
    "# You can use 'best_dt_model' as obtained in your code\n",
    "\n",
    "# Plot the Decision Tree\n",
    "plt.figure(figsize=(12, 8))\n",
    "plot_tree(best_dt_model, filled=True, feature_names=X_train.columns, class_names=['class_0', 'class_1'])\n",
    "plt.title(\"Best Decision Tree Visualization\")\n",
    "plt.show()\n"
   ]
  },
  {
   "cell_type": "code",
   "execution_count": 39,
   "id": "56878593",
   "metadata": {},
   "outputs": [
    {
     "data": {
      "image/png": "[encoded data removed]",
      "text/plain": [
       "<Figure size 576x432 with 1 Axes>"
      ]
     },
     "metadata": {
      "needs_background": "light"
     },
     "output_type": "display_data"
    }
   ],
   "source": [
    "import matplotlib.pyplot as plt\n",
    "from sklearn.metrics import roc_curve, auc\n",
    "\n",
    "# Assuming you have already obtained the best Decision Tree model from the grid search\n",
    "# You can use 'best_dt_model' as obtained in your code\n",
    "\n",
    "# Get the predicted probabilities for the positive class (class_1)\n",
    "y_prob_dt = best_dt_model.predict_proba(X_test)[:, 1]\n",
    "\n",
    "# Compute the ROC curve and AUC\n",
    "fpr, tpr, thresholds = roc_curve(y_test, y_prob_dt)\n",
    "roc_auc = auc(fpr, tpr)\n",
    "\n",
    "# Plot the ROC curve\n",
    "plt.figure(figsize=(8, 6))\n",
    "plt.plot(fpr, tpr, color='blue', lw=2, label='ROC curve (AUC = %0.2f)' % roc_auc)\n",
    "plt.plot([0, 1], [0, 1], color='gray', linestyle='--')\n",
    "plt.xlim([0.0, 1.0])\n",
    "plt.ylim([0.0, 1.05])\n",
    "plt.xlabel('False Positive Rate')\n",
    "plt.ylabel('True Positive Rate')\n",
    "plt.title('ROC Curve - Decision Tree Classifier')\n",
    "plt.legend(loc='lower right')\n",
    "plt.show()\n"
   ]
  },
  {
   "cell_type": "code",
   "execution_count": 43,
   "id": "4634b8fb",
   "metadata": {},
   "outputs": [
    {
     "name": "stdout",
     "output_type": "stream",
     "text": [
      "Accuracy: 0.86\n"
     ]
    },
    {
     "data": {
      "image/png": "[encoded data removed]",
      "text/plain": [
       "<Figure size 576x432 with 1 Axes>"
      ]
     },
     "metadata": {
      "needs_background": "light"
     },
     "output_type": "display_data"
    },
    {
     "data": {
      "image/png": "[encoded data removed]",
      "text/plain": [
       "<Figure size 576x432 with 1 Axes>"
      ]
     },
     "metadata": {
      "needs_background": "light"
     },
     "output_type": "display_data"
    }
   ],
   "source": [
    "import numpy as np\n",
    "import matplotlib.pyplot as plt\n",
    "from sklearn.datasets import make_classification\n",
    "from sklearn.model_selection import train_test_split\n",
    "from sklearn.tree import DecisionTreeClassifier\n",
    "from sklearn.metrics import accuracy_score\n",
    "from sklearn.metrics import roc_curve, auc\n",
    "from sklearn.metrics import confusion_matrix\n",
    "import seaborn as sns\n",
    "\n",
    "# Generate sample data (you can replace this with your actual data loading)\n",
    "X, y = make_classification(n_samples=1000, n_features=10, random_state=42)\n",
    "\n",
    "# Split the data into training and testing sets\n",
    "X_train, X_test, y_train, y_test = train_test_split(X, y, test_size=0.2, random_state=42)\n",
    "\n",
    "# Create and train the Decision Tree model\n",
    "dt_model = DecisionTreeClassifier(max_depth=5)\n",
    "dt_model.fit(X_train, y_train)\n",
    "\n",
    "# Make predictions on the testing data using the trained model\n",
    "y_pred = dt_model.predict(X_test)\n",
    "\n",
    "# Calculate accuracy\n",
    "accuracy = accuracy_score(y_test, y_pred)\n",
    "print(\"Accuracy:\", accuracy)\n",
    "\n",
    "# Calculate predicted probabilities for ROC curve\n",
    "y_prob = dt_model.predict_proba(X_test)[:, 1]\n",
    "fpr, tpr, thresholds = roc_curve(y_test, y_prob)\n",
    "roc_auc = auc(fpr, tpr)\n",
    "\n",
    "# Plot ROC curve\n",
    "plt.figure(figsize=(8, 6))\n",
    "plt.plot(fpr, tpr, color='blue', lw=2, label='ROC curve (AUC = %0.2f)' % roc_auc)\n",
    "plt.plot([0, 1], [0, 1], color='gray', linestyle='--')\n",
    "plt.xlim([0.0, 1.0])\n",
    "plt.ylim([0.0, 1.05])\n",
    "plt.xlabel('False Positive Rate')\n",
    "plt.ylabel('True Positive Rate')\n",
    "plt.title('ROC Curve - Decision Tree Classifier')\n",
    "plt.legend(loc='lower right')\n",
    "plt.show()\n",
    "\n",
    "# Plot confusion matrix heatmap\n",
    "conf_matrix = confusion_matrix(y_test, y_pred)\n",
    "plt.figure(figsize=(8, 6))\n",
    "sns.heatmap(conf_matrix, annot=True, fmt='d', cmap='Blues', cbar=False)\n",
    "plt.xlabel('Predicted Labels')\n",
    "plt.ylabel('True Labels')\n",
    "plt.title('Confusion Matrix Heatmap - Decision Tree Classifier')\n",
    "plt.show()\n"
   ]
  },
  {
   "cell_type": "markdown",
   "id": "cdb03331",
   "metadata": {},
   "source": [
    "#### 3. Random Forest"
   ]
  },
  {
   "cell_type": "markdown",
   "id": "1ed3c2ae",
   "metadata": {},
   "source": [
    "#### Hyperparameter Tuning"
   ]
  },
  {
   "cell_type": "code",
   "execution_count": 38,
   "id": "b0050533",
   "metadata": {},
   "outputs": [
    {
     "name": "stdout",
     "output_type": "stream",
     "text": [
      "Best Random Forest Model Accuracy: 0.8332415695578878\n",
      "Best Random Forest Hyperparameters: {'max_depth': None, 'n_estimators': 20}\n"
     ]
    }
   ],
   "source": [
    "from sklearn.ensemble import RandomForestClassifier\n",
    "\n",
    "# Create an instance of the RandomForestClassifier model\n",
    "rf = RandomForestClassifier()\n",
    "\n",
    "# Define the hyperparameters and their potential values for tuning\n",
    "param_grid = {\n",
    "    'n_estimators': [10, 20],              # Number of trees in the forest\n",
    "    'max_depth': [None, 5, 10]                    # Maximum depth of the tree                  \n",
    "}\n",
    "\n",
    "# Create a GridSearchCV object with the model and hyperparameters\n",
    "grid_search_rf = GridSearchCV(estimator=rf, param_grid=param_grid, cv=5, scoring='accuracy')\n",
    "\n",
    "# Perform the grid search on the training data\n",
    "grid_search_rf.fit(X_train, y_train)\n",
    "\n",
    "# Get the best model from the grid search\n",
    "best_rf_model = grid_search_rf.best_estimator_\n",
    "\n",
    "# Make predictions on the testing data using the best model\n",
    "y_pred_rf = best_rf_model.predict(X_test)\n",
    "\n",
    "# Calculate accuracy\n",
    "accuracy_rf = accuracy_score(y_test, y_pred_rf)\n",
    "print(\"Best Random Forest Model Accuracy:\", accuracy_rf)\n",
    "\n",
    "# Print the best hyperparameters\n",
    "print(\"Best Random Forest Hyperparameters:\", grid_search_rf.best_params_)\n"
   ]
  },
  {
   "cell_type": "markdown",
   "id": "e04b0945",
   "metadata": {},
   "source": [
    "#### Evaluation"
   ]
  },
  {
   "cell_type": "code",
   "execution_count": 39,
   "id": "22de9593",
   "metadata": {},
   "outputs": [
    {
     "name": "stdout",
     "output_type": "stream",
     "text": [
      "Classification Report:\n",
      "              precision    recall  f1-score   support\n",
      "\n",
      "           0       0.88      0.88      0.88    120149\n",
      "           1       0.74      0.74      0.74     56028\n",
      "\n",
      "    accuracy                           0.83    176177\n",
      "   macro avg       0.81      0.81      0.81    176177\n",
      "weighted avg       0.83      0.83      0.83    176177\n",
      "\n"
     ]
    }
   ],
   "source": [
    "from sklearn.metrics import classification_report\n",
    "\n",
    "# Generate a classification report\n",
    "classification_report_str = classification_report(y_test, y_pred_rf)\n",
    "print('Classification Report:')\n",
    "print(classification_report_str)"
   ]
  },
  {
   "cell_type": "code",
   "execution_count": 40,
   "id": "804337ae",
   "metadata": {},
   "outputs": [
    {
     "name": "stdout",
     "output_type": "stream",
     "text": [
      "Overall Precision: 0.8333286358468074\n",
      "Overall Recall: 0.8332415695578878\n",
      "Overall F1-score: 0.8332847577692991\n"
     ]
    }
   ],
   "source": [
    "from sklearn.metrics import classification_report, precision_recall_fscore_support\n",
    "\n",
    "# Assuming you have already performed the classification and have y_test and y_pred\n",
    "\n",
    "# Generate a classification report\n",
    "classification_report_str = classification_report(y_test, y_pred_rf)\n",
    "\n",
    "# Parse the classification report to get precision, recall, and f1-score\n",
    "precision, recall, f1_score, _ = precision_recall_fscore_support(y_test, y_pred_rf, average='weighted')\n",
    "\n",
    "# Print the results\n",
    "print(\"Overall Precision:\", precision)\n",
    "print(\"Overall Recall:\", recall)\n",
    "print(\"Overall F1-score:\", f1_score)\n"
   ]
  },
  {
   "cell_type": "code",
   "execution_count": 57,
   "id": "9649f2b4",
   "metadata": {},
   "outputs": [
    {
     "data": {
      "image/png": "[encoded data removed]",
      "text/plain": [
       "<Figure size 432x288 with 1 Axes>"
      ]
     },
     "metadata": {
      "needs_background": "light"
     },
     "output_type": "display_data"
    }
   ],
   "source": [
    "import matplotlib.pyplot as plt\n",
    "\n",
    "# Assuming your dataset is stored in a pandas DataFrame called 'data' and the column name is 'purchase_any'\n",
    "\n",
    "# Count the occurrences of each class\n",
    "class_counts = merged_df['purchase_any'].value_counts()\n",
    "\n",
    "# Get the class labels and their counts\n",
    "labels = class_counts.index.tolist()\n",
    "counts = class_counts.values.tolist()\n",
    "\n",
    "# Create a bar chart\n",
    "plt.bar(labels, counts)\n",
    "\n",
    "# Add labels and title to the chart\n",
    "plt.xlabel('Purchase Any')\n",
    "plt.ylabel('Count')\n",
    "plt.title('Count of Classes in Purchase Any Column')\n",
    "\n",
    "# Show the chart\n",
    "plt.show()\n"
   ]
  },
  {
   "cell_type": "code",
   "execution_count": null,
   "id": "531e703a",
   "metadata": {},
   "outputs": [],
   "source": []
  }
 ],
 "metadata": {
  "kernelspec": {
   "display_name": "Python 3 (ipykernel)",
   "language": "python",
   "name": "python3"
  },
  "language_info": {
   "codemirror_mode": {
    "name": "ipython",
    "version": 3
   },
   "file_extension": ".py",
   "mimetype": "text/x-python",
   "name": "python",
   "nbconvert_exporter": "python",
   "pygments_lexer": "ipython3",
   "version": "3.9.12"
  }
 },
 "nbformat": 4,
 "nbformat_minor": 5
}
